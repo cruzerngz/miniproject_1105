{
 "cells": [
  {
   "cell_type": "code",
   "execution_count": 1,
   "id": "670d356e-e743-43c6-82d0-30df0cda5d0b",
   "metadata": {},
   "outputs": [],
   "source": [
    "import numpy as np\n",
    "import pandas as pd\n",
    "import seaborn as sb\n",
    "import matplotlib.pyplot as plt # we only need pyplot\n",
    "from collections import Counter\n",
    "import statistics as stat\n",
    "\n",
    "## Own functions\n",
    "import _functions_1115 as func"
   ]
  },
  {
   "cell_type": "markdown",
   "id": "0f18e79c-d65e-4dc1-8d7d-5f1c3df15393",
   "metadata": {},
   "source": [
    "## Stuff to do:\n",
    "- Convert all fields to the best possible data type\n",
    "- Remove unwanted headers: budget, revenue, unnamed, runtime\n",
    "- Convert string representation of lists to list. Assign 3 new columns for each list\n",
    "    - Headers in question are producers, screenplay, starring_casts, genre_id (4 headers)"
   ]
  },
  {
   "cell_type": "code",
   "execution_count": 2,
   "id": "665ff791-f404-49c5-bead-07a3e936a80a",
   "metadata": {},
   "outputs": [
    {
     "name": "stdout",
     "output_type": "stream",
     "text": [
      "<class 'pandas.core.frame.DataFrame'>\n",
      "RangeIndex: 1838 entries, 0 to 1837\n",
      "Data columns (total 30 columns):\n",
      " #   Column                  Non-Null Count  Dtype  \n",
      "---  ------                  --------------  -----  \n",
      " 0   Unnamed: 0              1838 non-null   int64  \n",
      " 1   Unnamed: 0.1            1838 non-null   int64  \n",
      " 2   tmdb_id                 1838 non-null   int64  \n",
      " 3   imdb_id                 1838 non-null   object \n",
      " 4   year_film               1838 non-null   int64  \n",
      " 5   year_ceremony           1838 non-null   int64  \n",
      " 6   film                    1838 non-null   object \n",
      " 7   oscar_category          1838 non-null   object \n",
      " 8   nominee                 1838 non-null   object \n",
      " 9   oscar_win               1838 non-null   bool   \n",
      " 10  no_oscar_wins           1838 non-null   float64\n",
      " 11  no_oscar_nominations    1838 non-null   int64  \n",
      " 12  genre_id                1838 non-null   object \n",
      " 13  staring_casts           1838 non-null   object \n",
      " 14  casts_popularity        1838 non-null   float64\n",
      " 15  director                1838 non-null   object \n",
      " 16  producers               1838 non-null   object \n",
      " 17  screenplay              1838 non-null   object \n",
      " 18  crew_popularity         1838 non-null   float64\n",
      " 19  budget                  1838 non-null   float64\n",
      " 20  revenue                 1838 non-null   float64\n",
      " 21  runtime                 1838 non-null   int64  \n",
      " 22  tmdb_vote_average       1838 non-null   int64  \n",
      " 23  tmdb_vote_count         1838 non-null   int64  \n",
      " 24  imdb_rating             1838 non-null   int64  \n",
      " 25  imdb_votes              1838 non-null   int64  \n",
      " 26  rotten_tomatoes_rating  1838 non-null   float64\n",
      " 27  metascore               1838 non-null   float64\n",
      " 28  total_wins              1838 non-null   int64  \n",
      " 29  total_nominations       1838 non-null   int64  \n",
      "dtypes: bool(1), float64(7), int64(13), object(9)\n",
      "memory usage: 418.3+ KB\n"
     ]
    }
   ],
   "source": [
    "## Import dirty data\n",
    "data_raw = pd.read_csv('./data/Final_Movie_Data_Cleaned.csv')\n",
    "data_raw.info(10)\n",
    "##data_raw['film']"
   ]
  },
  {
   "cell_type": "code",
   "execution_count": 3,
   "id": "726d938e-9a1b-462e-8e91-08b586551bbe",
   "metadata": {},
   "outputs": [],
   "source": [
    "## from now on, data_cleaning will be used as a temp variable when changing the contents of data_raw\n",
    "## data_cleaning will be continuously overwritten until arriving at final cleaned data\n",
    "data_cleaning = data_raw.copy(deep=True)"
   ]
  },
  {
   "cell_type": "code",
   "execution_count": 4,
   "id": "7a30724d-df12-4386-9e6f-60de5bcb6064",
   "metadata": {},
   "outputs": [],
   "source": [
    "## remove unwanted headers - those that serve no purpose in movie identification/machine learning\n",
    "## budget and revenue might be filled with mean, so might be still usable\n",
    "data_cleaning.drop(['Unnamed: 0','Unnamed: 0.1','runtime','nominee'], axis=1, inplace=True)"
   ]
  },
  {
   "cell_type": "code",
   "execution_count": 5,
   "id": "da6c05df-f752-4842-abd6-0f177d935cff",
   "metadata": {},
   "outputs": [
    {
     "name": "stdout",
     "output_type": "stream",
     "text": [
      "<class 'pandas.core.frame.DataFrame'>\n",
      "RangeIndex: 1838 entries, 0 to 1837\n",
      "Data columns (total 26 columns):\n",
      " #   Column                  Non-Null Count  Dtype  \n",
      "---  ------                  --------------  -----  \n",
      " 0   tmdb_id                 1838 non-null   Int64  \n",
      " 1   imdb_id                 1838 non-null   string \n",
      " 2   year_film               1838 non-null   Int64  \n",
      " 3   year_ceremony           1838 non-null   Int64  \n",
      " 4   film                    1838 non-null   string \n",
      " 5   oscar_category          1838 non-null   string \n",
      " 6   oscar_win               1838 non-null   boolean\n",
      " 7   no_oscar_wins           1838 non-null   Int64  \n",
      " 8   no_oscar_nominations    1838 non-null   Int64  \n",
      " 9   genre_id                1838 non-null   string \n",
      " 10  staring_casts           1838 non-null   string \n",
      " 11  casts_popularity        1838 non-null   float64\n",
      " 12  director                1838 non-null   string \n",
      " 13  producers               1838 non-null   string \n",
      " 14  screenplay              1838 non-null   string \n",
      " 15  crew_popularity         1838 non-null   float64\n",
      " 16  budget                  1838 non-null   float64\n",
      " 17  revenue                 1838 non-null   float64\n",
      " 18  tmdb_vote_average       1838 non-null   Int64  \n",
      " 19  tmdb_vote_count         1838 non-null   Int64  \n",
      " 20  imdb_rating             1838 non-null   Int64  \n",
      " 21  imdb_votes              1838 non-null   Int64  \n",
      " 22  rotten_tomatoes_rating  1838 non-null   float64\n",
      " 23  metascore               1838 non-null   float64\n",
      " 24  total_wins              1838 non-null   Int64  \n",
      " 25  total_nominations       1838 non-null   Int64  \n",
      "dtypes: Int64(11), boolean(1), float64(6), string(8)\n",
      "memory usage: 382.4 KB\n"
     ]
    }
   ],
   "source": [
    "## convert to the best fit datatype\n",
    "data_cleaning = data_cleaning.convert_dtypes()\n",
    "data_cleaning.info()"
   ]
  },
  {
   "cell_type": "code",
   "execution_count": 6,
   "id": "10a24f26-a01c-4578-8a1a-6cd5958ec996",
   "metadata": {},
   "outputs": [
    {
     "name": "stdout",
     "output_type": "stream",
     "text": [
      "<class 'pandas.core.frame.DataFrame'>\n",
      "RangeIndex: 1838 entries, 0 to 1837\n",
      "Data columns (total 26 columns):\n",
      " #   Column             Non-Null Count  Dtype  \n",
      "---  ------             --------------  -----  \n",
      " 0   tmdb_id            1838 non-null   Int64  \n",
      " 1   imdb_id            1838 non-null   string \n",
      " 2   year               1838 non-null   Int64  \n",
      " 3   year_ceremony      1838 non-null   Int64  \n",
      " 4   film               1838 non-null   string \n",
      " 5   oscar_cat          1838 non-null   string \n",
      " 6   oscar_win          1838 non-null   boolean\n",
      " 7   oscar_win_count    1838 non-null   Int64  \n",
      " 8   oscar_nominations  1838 non-null   Int64  \n",
      " 9   genre_id           1838 non-null   string \n",
      " 10  cast               1838 non-null   string \n",
      " 11  cast_popularity    1838 non-null   float64\n",
      " 12  director           1838 non-null   string \n",
      " 13  producers          1838 non-null   string \n",
      " 14  screenplay         1838 non-null   string \n",
      " 15  crew_popularity    1838 non-null   float64\n",
      " 16  budget             1838 non-null   float64\n",
      " 17  revenue            1838 non-null   float64\n",
      " 18  tmdb_vote_average  1838 non-null   Int64  \n",
      " 19  tmdb_vote_count    1838 non-null   Int64  \n",
      " 20  imdb_rating        1838 non-null   Int64  \n",
      " 21  imdb_votes         1838 non-null   Int64  \n",
      " 22  rotten_tomatoes    1838 non-null   float64\n",
      " 23  metascore          1838 non-null   float64\n",
      " 24  total_wins         1838 non-null   Int64  \n",
      " 25  total_nominations  1838 non-null   Int64  \n",
      "dtypes: Int64(11), boolean(1), float64(6), string(8)\n",
      "memory usage: 382.4 KB\n"
     ]
    }
   ],
   "source": [
    "## rename some headers \n",
    "data_cleaning.rename({\n",
    "    'year_film':'year',\n",
    "    'oscar_category':'oscar_cat',\n",
    "    'no_oscar_wins':'oscar_win_count',\n",
    "    'no_oscar_nominations':'oscar_nominations',\n",
    "    'staring_casts':'cast',\n",
    "    'casts_popularity':'cast_popularity',\n",
    "    'rotten_tomatoes_rating':'rotten_tomatoes'\n",
    "}, axis=1, inplace=True)\n",
    "data_cleaning.info()"
   ]
  },
  {
   "cell_type": "code",
   "execution_count": 7,
   "id": "17bd600a-f624-49c5-abb8-b27fa629619a",
   "metadata": {},
   "outputs": [
    {
     "name": "stdout",
     "output_type": "stream",
     "text": [
      "Stats for number of genres in column 'genre_id':\n",
      "    Mean:   2\n",
      "    Median: 2\n",
      "    Mode:   2\n",
      "    Min:    0\n",
      "    Max:    5\n",
      "\n",
      "Stats for number of genres in column 'cast':\n",
      "    Mean:   3\n",
      "    Median: 4\n",
      "    Mode:   4\n",
      "    Min:    1\n",
      "    Max:    5\n",
      "\n",
      "Stats for number of genres in column 'producers':\n",
      "    Mean:   2\n",
      "    Median: 2\n",
      "    Mode:   1\n",
      "    Min:    0\n",
      "    Max:    10\n",
      "\n",
      "Stats for number of genres in column 'screenplay':\n",
      "    Mean:   1\n",
      "    Median: 1\n",
      "    Mode:   1\n",
      "    Min:    0\n",
      "    Max:    5\n",
      "\n"
     ]
    }
   ],
   "source": [
    "## Checking the number of cols needed for each of the following fields\n",
    "for col in ['genre_id','cast','producers','screenplay']:\n",
    "    #check the number of genre_ids in each row\n",
    "    temp_list = []\n",
    "    \n",
    "    ## append length of each list \n",
    "    for entry in data_cleaning[col]:\n",
    "        #print(func.strtolist(entry))\n",
    "        temp_list.append(len(func.strtolist(entry)))\n",
    "\n",
    "    print('''Stats for number of genres in column '%s':\n",
    "    Mean:   %d\n",
    "    Median: %d\n",
    "    Mode:   %d\n",
    "    Min:    %d\n",
    "    Max:    %d\\n''' % \n",
    "    (col, stat.mean(temp_list), stat.median(temp_list), stat.mode(temp_list), min(temp_list), max(temp_list)))"
   ]
  },
  {
   "cell_type": "code",
   "execution_count": 8,
   "id": "24fe9ca3-bdcf-4b22-b985-0270b5ea80c4",
   "metadata": {
    "tags": []
   },
   "outputs": [],
   "source": [
    "## creating new col for each item in list, based on the cumuative stats per col above\n",
    "## taking the median no. of items in a list\n",
    "new_headers = {\n",
    "    'genre_id':['genre_id_0','genre_id_1'], \n",
    "    'cast':['cast_0','cast_1','cast_2','cast_3'],\n",
    "    'producers':['producer_0','producer_1'],\n",
    "    'screenplay':['screenplay_0']\n",
    "}\n",
    "\n",
    "## replacing cols with string representation of list to an actual list\n",
    "for item in new_headers:\n",
    "    data_cleaning[item] = [func.strtolist(data_cleaning[item][index]) for index in range(len(data_cleaning))]"
   ]
  },
  {
   "cell_type": "code",
   "execution_count": 9,
   "id": "a216b5a7-7f3c-443d-a089-b21658f0997d",
   "metadata": {},
   "outputs": [],
   "source": [
    "## WORKING\n",
    "## What this does is take each existing col in the new_headers dictionary, and expands out to multiple sub columns\n",
    "## This is because the existing col contains a list that is not useful when doing machine learning\n",
    "\n",
    "## look for current col that exists in \n",
    "for currheader in new_headers:\n",
    "    ## look for target subcols, check if they exist first\n",
    "    if currheader in data_cleaning:\n",
    "        ## perform addition of new cols from currheader list containing only 1 entry, NAN if list index out of range\n",
    "        for subcol in range(len(new_headers[currheader])):\n",
    "            \n",
    "            tmp_list = []\n",
    "            for i in range(len(data_cleaning)):\n",
    "                ## checks if list index still in range\n",
    "                try:\n",
    "                    tmp_list.append(data_cleaning[currheader][i][subcol])\n",
    "                ## adds NAN if out of range\n",
    "                except:\n",
    "                    tmp_list.append(None)\n",
    "\n",
    "            data_cleaning[new_headers[currheader][subcol]] = tmp_list\n",
    "            \n",
    "data_cleaning = data_cleaning.convert_dtypes()"
   ]
  },
  {
   "cell_type": "code",
   "execution_count": 10,
   "id": "01ce2c86-d8ea-4068-ab2a-759de26503e5",
   "metadata": {
    "tags": []
   },
   "outputs": [],
   "source": [
    "## removing even more cols, including the cols containing lists of str/int (cause these elements are added to multiple subcols already)\n",
    "data_cleaning.drop([\n",
    "    'year_ceremony', 'genre_id','cast','producers','screenplay'\n",
    "], axis=1, inplace=True)"
   ]
  },
  {
   "cell_type": "code",
   "execution_count": 11,
   "id": "604c7f1e-a2b1-4d77-9313-af2c21ea1b4e",
   "metadata": {
    "collapsed": true,
    "jupyter": {
     "outputs_hidden": true,
     "source_hidden": true
    },
    "tags": []
   },
   "outputs": [
    {
     "name": "stdout",
     "output_type": "stream",
     "text": [
      "<class 'pandas.core.frame.DataFrame'>\n",
      "RangeIndex: 1838 entries, 0 to 1837\n",
      "Data columns (total 30 columns):\n",
      " #   Column             Non-Null Count  Dtype  \n",
      "---  ------             --------------  -----  \n",
      " 0   tmdb_id            1838 non-null   Int64  \n",
      " 1   imdb_id            1838 non-null   string \n",
      " 2   year               1838 non-null   Int64  \n",
      " 3   film               1838 non-null   string \n",
      " 4   oscar_cat          1838 non-null   string \n",
      " 5   oscar_win          1838 non-null   boolean\n",
      " 6   oscar_win_count    1838 non-null   Int64  \n",
      " 7   oscar_nominations  1838 non-null   Int64  \n",
      " 8   cast_popularity    1838 non-null   float64\n",
      " 9   director           1838 non-null   string \n",
      " 10  crew_popularity    1838 non-null   float64\n",
      " 11  budget             1838 non-null   float64\n",
      " 12  revenue            1838 non-null   float64\n",
      " 13  tmdb_vote_average  1838 non-null   Int64  \n",
      " 14  tmdb_vote_count    1838 non-null   Int64  \n",
      " 15  imdb_rating        1838 non-null   Int64  \n",
      " 16  imdb_votes         1838 non-null   Int64  \n",
      " 17  rotten_tomatoes    1838 non-null   float64\n",
      " 18  metascore          1838 non-null   float64\n",
      " 19  total_wins         1838 non-null   Int64  \n",
      " 20  total_nominations  1838 non-null   Int64  \n",
      " 21  genre_id_0         1836 non-null   Int64  \n",
      " 22  genre_id_1         1399 non-null   Int64  \n",
      " 23  cast_0             1838 non-null   string \n",
      " 24  cast_1             1837 non-null   string \n",
      " 25  cast_2             1836 non-null   string \n",
      " 26  cast_3             1836 non-null   string \n",
      " 27  producer_0         1773 non-null   string \n",
      " 28  producer_1         1169 non-null   string \n",
      " 29  screenplay_0       1418 non-null   string \n",
      "dtypes: Int64(12), boolean(1), float64(6), string(11)\n",
      "memory usage: 441.7 KB\n"
     ]
    }
   ],
   "source": [
    "data_cleaning.info()"
   ]
  },
  {
   "cell_type": "code",
   "execution_count": 12,
   "id": "ac76ffb5-f16b-49d1-8a26-ffef3472d2a1",
   "metadata": {
    "tags": []
   },
   "outputs": [],
   "source": [
    "## reordering the cols for clarity\n",
    "#col_list = data_cleaning.columns.tolist()\n",
    "#display(len(data_cleaning.columns))\n",
    "#display(col_list)\n",
    "\n",
    "col_list_reorder = [\n",
    "    'tmdb_id',\n",
    "    'imdb_id',\n",
    "    'film',\n",
    "    'year',\n",
    "    'budget', ## not inside?\n",
    "    'revenue', ## not inside?\n",
    "    'oscar_cat',\n",
    "    'oscar_win',\n",
    "    'oscar_nominations',\n",
    "    'oscar_win_count',\n",
    "    'total_wins',\n",
    "    'total_nominations',\n",
    "    'cast_popularity',\n",
    "    'crew_popularity',\n",
    "    'tmdb_vote_average',\n",
    "    'tmdb_vote_count',\n",
    "    'imdb_rating',\n",
    "    'imdb_votes',\n",
    "    'rotten_tomatoes',\n",
    "    'metascore',\n",
    "    'director',\n",
    "    'genre_id_0',\n",
    "    'genre_id_1',\n",
    "    'cast_0',\n",
    "    'cast_1',\n",
    "    'cast_2',\n",
    "    'cast_3',\n",
    "    'producer_0',\n",
    "    'producer_1',\n",
    "    'screenplay_0'\n",
    "]\n",
    "data_cleaning = data_cleaning[col_list_reorder]"
   ]
  },
  {
   "cell_type": "code",
   "execution_count": 13,
   "id": "1b0cb830-d61a-41a6-b929-2df5f8538369",
   "metadata": {
    "collapsed": true,
    "jupyter": {
     "outputs_hidden": true,
     "source_hidden": true
    },
    "tags": []
   },
   "outputs": [
    {
     "name": "stdout",
     "output_type": "stream",
     "text": [
      "<class 'pandas.core.frame.DataFrame'>\n",
      "RangeIndex: 1838 entries, 0 to 1837\n",
      "Data columns (total 30 columns):\n",
      " #   Column             Non-Null Count  Dtype  \n",
      "---  ------             --------------  -----  \n",
      " 0   tmdb_id            1838 non-null   Int64  \n",
      " 1   imdb_id            1838 non-null   string \n",
      " 2   film               1838 non-null   string \n",
      " 3   year               1838 non-null   Int64  \n",
      " 4   budget             1838 non-null   float64\n",
      " 5   revenue            1838 non-null   float64\n",
      " 6   oscar_cat          1838 non-null   string \n",
      " 7   oscar_win          1838 non-null   boolean\n",
      " 8   oscar_nominations  1838 non-null   Int64  \n",
      " 9   oscar_win_count    1838 non-null   Int64  \n",
      " 10  total_wins         1838 non-null   Int64  \n",
      " 11  total_nominations  1838 non-null   Int64  \n",
      " 12  cast_popularity    1838 non-null   float64\n",
      " 13  crew_popularity    1838 non-null   float64\n",
      " 14  tmdb_vote_average  1838 non-null   Int64  \n",
      " 15  tmdb_vote_count    1838 non-null   Int64  \n",
      " 16  imdb_rating        1838 non-null   Int64  \n",
      " 17  imdb_votes         1838 non-null   Int64  \n",
      " 18  rotten_tomatoes    1838 non-null   float64\n",
      " 19  metascore          1838 non-null   float64\n",
      " 20  director           1838 non-null   string \n",
      " 21  genre_id_0         1836 non-null   Int64  \n",
      " 22  genre_id_1         1399 non-null   Int64  \n",
      " 23  cast_0             1838 non-null   string \n",
      " 24  cast_1             1837 non-null   string \n",
      " 25  cast_2             1836 non-null   string \n",
      " 26  cast_3             1836 non-null   string \n",
      " 27  producer_0         1773 non-null   string \n",
      " 28  producer_1         1169 non-null   string \n",
      " 29  screenplay_0       1418 non-null   string \n",
      "dtypes: Int64(12), boolean(1), float64(6), string(11)\n",
      "memory usage: 441.7 KB\n"
     ]
    }
   ],
   "source": [
    "data_cleaning.info()"
   ]
  },
  {
   "cell_type": "markdown",
   "id": "6498f5d9-f040-46b4-813f-321b23089f0a",
   "metadata": {},
   "source": [
    "## Skip this cell\n",
    "## converting data types to appropriate ones\n",
    "data_cleaning = data_cleaning.astype({\n",
    "    'oscar_cat':'object',\n",
    "    'director':'object',\n",
    "    'genre_id_0':'object',\n",
    "    'genre_id_1':'object',\n",
    "    'starring_0':'object',\n",
    "    'starring_1':'object',\n",
    "    'starring_2':'object',\n",
    "    'starring_3':'object',\n",
    "    'producer_0':'object',\n",
    "    'producer_1':'object',\n",
    "    'screenplay_0':'object'\n",
    "})"
   ]
  },
  {
   "cell_type": "code",
   "execution_count": 14,
   "id": "a5dff81e-3c53-4397-ba50-5138b69a3689",
   "metadata": {},
   "outputs": [
    {
     "name": "stdout",
     "output_type": "stream",
     "text": [
      "<class 'pandas.core.frame.DataFrame'>\n",
      "RangeIndex: 1838 entries, 0 to 1837\n",
      "Data columns (total 30 columns):\n",
      " #   Column             Non-Null Count  Dtype  \n",
      "---  ------             --------------  -----  \n",
      " 0   tmdb_id            1838 non-null   Int64  \n",
      " 1   imdb_id            1838 non-null   string \n",
      " 2   film               1838 non-null   string \n",
      " 3   year               1838 non-null   Int64  \n",
      " 4   budget             1838 non-null   float64\n",
      " 5   revenue            1838 non-null   float64\n",
      " 6   oscar_cat          1838 non-null   string \n",
      " 7   oscar_win          1838 non-null   boolean\n",
      " 8   oscar_nominations  1838 non-null   Int64  \n",
      " 9   oscar_win_count    1838 non-null   Int64  \n",
      " 10  total_wins         1838 non-null   Int64  \n",
      " 11  total_nominations  1838 non-null   Int64  \n",
      " 12  cast_popularity    1838 non-null   float64\n",
      " 13  crew_popularity    1838 non-null   float64\n",
      " 14  tmdb_vote_average  1838 non-null   Int64  \n",
      " 15  tmdb_vote_count    1838 non-null   Int64  \n",
      " 16  imdb_rating        1838 non-null   Int64  \n",
      " 17  imdb_votes         1838 non-null   Int64  \n",
      " 18  rotten_tomatoes    1838 non-null   float64\n",
      " 19  metascore          1838 non-null   float64\n",
      " 20  director           1838 non-null   string \n",
      " 21  genre_id_0         1836 non-null   Int64  \n",
      " 22  genre_id_1         1399 non-null   Int64  \n",
      " 23  cast_0             1838 non-null   string \n",
      " 24  cast_1             1837 non-null   string \n",
      " 25  cast_2             1836 non-null   string \n",
      " 26  cast_3             1836 non-null   string \n",
      " 27  producer_0         1773 non-null   string \n",
      " 28  producer_1         1169 non-null   string \n",
      " 29  screenplay_0       1418 non-null   string \n",
      "dtypes: Int64(12), boolean(1), float64(6), string(11)\n",
      "memory usage: 441.7 KB\n"
     ]
    }
   ],
   "source": [
    "data_cleaning.info()"
   ]
  },
  {
   "cell_type": "code",
   "execution_count": 16,
   "id": "5d58e317-1e95-48a3-a433-27ef7abd85c1",
   "metadata": {},
   "outputs": [],
   "source": [
    "## finally assign variable data_clean\n",
    "data_clean = data_cleaning.copy(deep=True)\n",
    "## only perform this command if there are changes to be made to the csv file\n",
    "#data_clean.to_csv('./data/Final_Movie_Data_clean.csv')"
   ]
  },
  {
   "cell_type": "markdown",
   "id": "6137d66d-76a7-49c1-94e5-157b64aa6777",
   "metadata": {},
   "source": [
    "---\n",
    "### Test cells below\n",
    "---"
   ]
  },
  {
   "cell_type": "code",
   "execution_count": null,
   "id": "1016cd12-57e7-40f2-9acc-777bd1407656",
   "metadata": {},
   "outputs": [],
   "source": [
    "test = data_cleaning.copy(deep=True)\n",
    "test = test[['genre_id','producers']]\n",
    "#test = test.head(100)\n",
    "## replacing by this method works, using list comprehension\n",
    "test['genre_id'] = [func.strtolist(test['genre_id'][index]) for index in range(len(test))]\n",
    "test['producers'] = [func.strtolist(test['producers'][index]) for index in range(len(test))]\n",
    "display(test)"
   ]
  },
  {
   "cell_type": "code",
   "execution_count": null,
   "id": "6d8d9007-636d-4cf8-9596-ea4525a77249",
   "metadata": {
    "tags": []
   },
   "outputs": [],
   "source": [
    "test_list = []\n",
    "for i in range(len(test)):\n",
    "    try:\n",
    "        test_list.append(test['genre_id'][i][0])\n",
    "    except:\n",
    "        test_list.append(None)\n",
    "\n",
    "test['genre_id_0'] = test_list\n",
    "\n",
    "\n",
    "## do this last\n",
    "test.convert_dtypes()\n",
    "#test['genre_id'][3][0]\n",
    "if 'genre_id' in test:\n",
    "    print(1)"
   ]
  },
  {
   "cell_type": "code",
   "execution_count": null,
   "id": "c3656636-f16c-4043-8286-1dce1cb5f19f",
   "metadata": {},
   "outputs": [],
   "source": [
    "## WORKING\n",
    "## look for current col that exists in \n",
    "for currheader in new_headers:\n",
    "    ## look for target subcols, check if they exist first\n",
    "    if currheader in test:\n",
    "        for subcol in range(len(new_headers[currheader])):\n",
    "            \n",
    "            tmp_list = []\n",
    "            for i in range(len(test)):\n",
    "                try:\n",
    "                    tmp_list.append(test[currheader][i][subcol])\n",
    "                except:\n",
    "                    tmp_list.append(None)\n",
    "\n",
    "            test[new_headers[currheader][subcol]] = tmp_list\n",
    "            \n",
    "test = test.convert_dtypes()\n",
    "test"
   ]
  },
  {
   "cell_type": "code",
   "execution_count": null,
   "id": "cf399ace-6f55-4294-aa66-8551368a23e8",
   "metadata": {},
   "outputs": [],
   "source": [
    "## comparing data before and after cleaning pass\n",
    "display(data_raw.info())\n",
    "display(data_clean.info())"
   ]
  },
  {
   "cell_type": "code",
   "execution_count": null,
   "id": "fb985ad7-cf49-40a5-a191-6c59ff1260af",
   "metadata": {},
   "outputs": [],
   "source": [
    "newdata = pd.read_csv('./data/Final_Movie_Data_Cleaned.csv')\n",
    "display(newdata.info())\n",
    "display(data_clean.info())"
   ]
  }
 ],
 "metadata": {
  "kernelspec": {
   "display_name": "Python 3",
   "language": "python",
   "name": "python3"
  },
  "language_info": {
   "codemirror_mode": {
    "name": "ipython",
    "version": 3
   },
   "file_extension": ".py",
   "mimetype": "text/x-python",
   "name": "python",
   "nbconvert_exporter": "python",
   "pygments_lexer": "ipython3",
   "version": "3.6.9"
  }
 },
 "nbformat": 4,
 "nbformat_minor": 5
}

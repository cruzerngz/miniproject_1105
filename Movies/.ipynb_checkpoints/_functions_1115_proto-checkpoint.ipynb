{
 "cells": [
  {
   "cell_type": "code",
   "execution_count": 44,
   "id": "c2bdd3e4-94bf-4be4-80a1-e4963591ddd3",
   "metadata": {},
   "outputs": [],
   "source": [
    "## Take in a string representation of a list and returns a list containing said elements\n",
    "## Elements can be string or int data type, ints can be in string form as well\n",
    "def strtolist(str_in):\n",
    "    ## if input is indeed a string\n",
    "    if (str(str_in)):\n",
    "        returnlist = []\n",
    "        \n",
    "        tmp = str_in.strip(\"[]\")\n",
    "        #print(tmp)\n",
    "        tmp = tmp.split(\",\")\n",
    "        #print(tmp)\n",
    "        \n",
    "        ## attept int conversion\n",
    "        try:\n",
    "            for item in tmp:\n",
    "                returnlist.append(int(item))\n",
    "            print(type(item))\n",
    "            print(type(tmp[0]))\n",
    "        ## Do str processing instead\n",
    "        except:\n",
    "            for item in tmp:\n",
    "                try:\n",
    "                    returnlist.append(int(item.strip('''\"''\"''')))\n",
    "                    print(type(item))\n",
    "                    print(type(tmp[0]))\n",
    "                except:\n",
    "                    returnlist.append(item.strip('''\"''\"'''))\n",
    "                    \n",
    "        return returnlist"
   ]
  },
  {
   "cell_type": "code",
   "execution_count": 47,
   "id": "d0f84561-2a05-4cf4-a971-01b3c1ccb019",
   "metadata": {},
   "outputs": [
    {
     "name": "stdout",
     "output_type": "stream",
     "text": [
      "['asd', 'asd']\n"
     ]
    }
   ],
   "source": [
    "test_sample = \"['asd','asd']\"\n",
    "strtolist(test_sample)"
   ]
  },
  {
   "cell_type": "code",
   "execution_count": null,
   "id": "fc66a748-15ae-41d9-8a49-fc54aea0e6b0",
   "metadata": {},
   "outputs": [],
   "source": []
  }
 ],
 "metadata": {
  "kernelspec": {
   "display_name": "Python 3",
   "language": "python",
   "name": "python3"
  },
  "language_info": {
   "codemirror_mode": {
    "name": "ipython",
    "version": 3
   },
   "file_extension": ".py",
   "mimetype": "text/x-python",
   "name": "python",
   "nbconvert_exporter": "python",
   "pygments_lexer": "ipython3",
   "version": "3.6.9"
  }
 },
 "nbformat": 4,
 "nbformat_minor": 5
}

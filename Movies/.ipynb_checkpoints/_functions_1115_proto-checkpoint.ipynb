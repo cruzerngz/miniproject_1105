{
 "cells": [
  {
   "cell_type": "code",
   "execution_count": null,
   "id": "c2bdd3e4-94bf-4be4-80a1-e4963591ddd3",
   "metadata": {},
   "outputs": [],
   "source": [
    "## Take in a string representation of a list and returns a list containing said elements\n",
    "## Elements can be string or int data type, ints can be in string form as well\n",
    "def strtolist(str_in):\n",
    "    ## if input is indeed a string\n",
    "    if (str(str_in)):\n",
    "        returnlist = []\n",
    "        \n",
    "        tmp = str_in.strip(\"[]''\")\n",
    "        #print(tmp)\n",
    "        tmp = tmp.split(\", \")\n",
    "        #print(tmp)\n",
    "        \n",
    "        ## if str representation of list contains nothing, return empty list\n",
    "        if len(tmp)==1 and len(tmp[0])==0:\n",
    "            return []\n",
    "        \n",
    "        ## attept int conversion\n",
    "        try:\n",
    "            for item in tmp:\n",
    "                returnlist.append(int(item))\n",
    "        ## Do str processing instead\n",
    "        except:\n",
    "            for item in tmp:\n",
    "                try:\n",
    "                    returnlist.append(int(item.strip('''\"''\"''')))\n",
    "                except:\n",
    "                    returnlist.append(item.strip('''\"''\"'''))\n",
    "                    \n",
    "        return returnlist"
   ]
  },
  {
   "cell_type": "code",
   "execution_count": null,
   "id": "d0f84561-2a05-4cf4-a971-01b3c1ccb019",
   "metadata": {},
   "outputs": [],
   "source": [
    "test_sample = \"[1,2,3]\"\n",
    "strtolist(test_sample)"
   ]
  },
  {
   "cell_type": "code",
   "execution_count": null,
   "id": "fc66a748-15ae-41d9-8a49-fc54aea0e6b0",
   "metadata": {},
   "outputs": [],
   "source": []
  }
 ],
 "metadata": {
  "kernelspec": {
   "display_name": "Python 3",
   "language": "python",
   "name": "python3"
  },
  "language_info": {
   "codemirror_mode": {
    "name": "ipython",
    "version": 3
   },
   "file_extension": ".py",
   "mimetype": "text/x-python",
   "name": "python",
   "nbconvert_exporter": "python",
   "pygments_lexer": "ipython3",
   "version": "3.6.9"
  }
 },
 "nbformat": 4,
 "nbformat_minor": 5
}

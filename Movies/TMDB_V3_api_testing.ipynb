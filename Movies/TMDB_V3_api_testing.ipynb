{
 "cells": [
  {
   "cell_type": "code",
   "execution_count": 1,
   "id": "binary-signature",
   "metadata": {},
   "outputs": [],
   "source": [
    "## TMDB stuffs\n",
    "from tmdbv3api import TMDb, Movie, Discover, TV, Person, Season\n",
    "from tmdbv3api import Account\n",
    "from tmdbv3api import Authentication\n",
    "\n",
    "## Import the rest of required libraries\n",
    "import time, random\n",
    "import numpy as np\n",
    "import pandas as pd\n",
    "import seaborn as sb\n",
    "import matplotlib.pyplot as plt # we only need pyplot\n",
    "sb.set(palette='icefire') # set the default Seaborn style for graphics\n",
    "\n",
    "## Own functions\n",
    "import functions_1115 as func\n",
    "\n",
    "##TMDB details\n",
    "##Account details for getting movie reccomendations\n",
    "##Run this block only once during a session\n",
    "tmdb = TMDb()\n",
    "tmdb.api_key = '0921b0cce35c0b2ec8b874614d1d0b47' ##insert apikey\n",
    "tmdb.language = 'en'\n",
    "\n",
    "USERNAME = \"cybercat94\"\n",
    "PASSWORD = \"Wave1994@\"\n",
    "auth = Authentication(username=USERNAME, password=PASSWORD)\n",
    "account = Account()\n",
    "details = account.details()\n",
    "movie = Movie()"
   ]
  },
  {
   "cell_type": "code",
   "execution_count": 2,
   "id": "reported-harvey",
   "metadata": {},
   "outputs": [],
   "source": [
    "## Create a function that exports to a csv file:\n",
    "## Takes the input params:\n",
    "## - dictionary containing search parameters\n",
    "## - Output CSV file name\n",
    "## Continuously go through each search page (max 100, total 2000 movies) until no result is returned (search complete)\n",
    "## Move these movies into a DataFrame using the dict_2_dataframe function\n",
    "\n",
    "search_params = {\n",
    "    ## Comment out params that are not required for search\n",
    "    'sort_by':'',\n",
    "    ## 'popularity.asc/desc','release_date.asc/desc','revenue.asc/desc','original_tite.asc/desc'\n",
    "    \n",
    "    'page':'1', ## 1-500, default 1. Do not modify this parameter.\n",
    "    'primary_release_year':'', ## YYYY\n",
    "    'primary_release_date.gte':'', ## 'YYYY-MM-DD'\n",
    "    'primary_release_date.lte':'', ## 'YYYY-MM-DD'\n",
    "    'release_date.gte':'', ## 'YYYY-MM-DD'\n",
    "    'release_date.lte':'', ## 'YYYY-MM-DD'\n",
    "    'year':'', ## YYYY\n",
    "    \n",
    "    ## Comma-separated list of person IDs\n",
    "    'with_cast':'',\n",
    "    'with_crew':'',\n",
    "    'with_people':'',\n",
    "    ## Comma-separated list of company IDs\n",
    "    'with_companies':'',\n",
    "    ## Comma-separated list of genre IDs\n",
    "    'with_genres':'',\n",
    "    'without_genres':'',\n",
    "    ## Comma-separated list of keyword IDs\n",
    "    'with_keywords':'',\n",
    "    \n",
    "    ## Integer minutes\n",
    "    'with_runtime.gte':'',\n",
    "    'with_runtime.lte':''  \n",
    "}\n",
    "\n",
    "def discover_2_csv(dict_param, output):\n",
    "    df_out = None\n",
    "    call_fail = 0\n",
    "    \n",
    "    ## Input validation\n",
    "    if type(dict_param)!=dict or type(output)!=str:\n",
    "        print('Error, inputs must be a dictionary and a string')\n",
    "        return\n",
    "    \n",
    "    ## up to 500 pages available to extract, depending on how broad search is. So up to 20*500=10000 movies possible\n",
    "    for page_no in range(1,501): ## for debugging purposes, change to max=10\n",
    "        \n",
    "        ## Set the current page\n",
    "        dict_param['page']=page_no\n",
    "        \n",
    "        ## Get the list\n",
    "        movie_list = discover.discover_movies(dict_param)\n",
    "        \n",
    "        ## Terminate search if most recent page has nothing\n",
    "        if len(movie_list) == 0:\n",
    "            break\n",
    "            \n",
    "        ## Make the large dataframe\n",
    "        try:\n",
    "            if df_out is None:\n",
    "                df_out = func.consec_dict_2_df(movie_list)\n",
    "            else:\n",
    "                df_out = pd.concat([df_out,func.consec_dict_2_df(movie_list)],sort=True)\n",
    "        except:\n",
    "            call_fail += 1\n",
    "        \n",
    "        ## Output statements to keep track of things\n",
    "        print('Page number: '+str(page_no)+'/500', end='\\r')\n",
    "    \n",
    "    ## Resetting the index to count normally\n",
    "    df_out.reset_index(drop=True, inplace=True)\n",
    "    print('\\nSearch complete\\n'+str(page_no*20)+' movies found')\n",
    "    print(str(len(df_out))+' movies returned')\n",
    "    print(str(call_fail)+' calls did not get through')\n",
    "    df_out.to_csv(output)\n",
    "    print(\"Exported to local folder:\",output)\n",
    "    return df_out"
   ]
  },
  {
   "cell_type": "code",
   "execution_count": 3,
   "id": "internal-truck",
   "metadata": {},
   "outputs": [],
   "source": [
    "## Discover movies\n",
    "## Takes a massive number of search parameters\n",
    "## Returns a list of 20 movies (dictionaries)\n",
    "## Faster than manually querying one id at a time\n",
    "discover = Discover()\n",
    "movies = discover.discover_movies({\n",
    "    'year': '2021',\n",
    "    'page':500\n",
    "})\n",
    "#print('Number of movies in search result:',len(movies))\n",
    "#for movie in movies:\n",
    "#    print(movie['original_title'])"
   ]
  },
  {
   "cell_type": "code",
   "execution_count": 4,
   "id": "closing-blood",
   "metadata": {},
   "outputs": [
    {
     "name": "stdout",
     "output_type": "stream",
     "text": [
      "Page number: 8/500\n",
      "Search complete\n",
      "180 movies found\n",
      "156 movies returned\n",
      "0 calls did not get through\n",
      "Exported to local folder: 2022_movies.csv\n"
     ]
    }
   ],
   "source": [
    "test_output = func.discover_2_csv({'year':2022}, '2022_movies.csv')"
   ]
  },
  {
   "cell_type": "code",
   "execution_count": 5,
   "id": "brave-width",
   "metadata": {
    "collapsed": true,
    "jupyter": {
     "outputs_hidden": true
    }
   },
   "outputs": [
    {
     "name": "stdout",
     "output_type": "stream",
     "text": [
      "adult\n",
      "backdrop_path\n",
      "belongs_to_collection\n",
      "budget\n",
      "genres\n",
      "homepage\n",
      "id\n",
      "imdb_id\n",
      "original_language\n",
      "original_title\n",
      "overview\n",
      "popularity\n",
      "poster_path\n",
      "production_companies\n",
      "production_countries\n",
      "release_date\n",
      "revenue\n",
      "runtime\n",
      "spoken_languages\n",
      "status\n",
      "tagline\n",
      "title\n",
      "video\n",
      "vote_average\n",
      "vote_count\n",
      "videos\n",
      "trailers\n",
      "images\n",
      "casts\n",
      "translations\n",
      "keywords\n",
      "release_dates\n"
     ]
    }
   ],
   "source": [
    "for item in movie.details(10000):\n",
    "    print(item)"
   ]
  },
  {
   "cell_type": "code",
   "execution_count": 8,
   "id": "surface-assignment",
   "metadata": {},
   "outputs": [
    {
     "data": {
      "text/plain": [
       "<AxesSubplot:xlabel='release_date', ylabel='Count'>"
      ]
     },
     "execution_count": 8,
     "metadata": {},
     "output_type": "execute_result"
    },
    {
     "data": {
      "image/png": "[encoded data removed]",
      "text/plain": [
       "<Figure size 1152x576 with 1 Axes>"
      ]
     },
     "metadata": {},
     "output_type": "display_data"
    }
   ],
   "source": [
    "#test_output.drop(test_output['popularity']==1, inplace=True)\n",
    "plt.figure(figsize=(16,8))\n",
    "sb.histplot(x=test_output['release_date'], kde=True)"
   ]
  }
 ],
 "metadata": {
  "kernelspec": {
   "display_name": "Python 3",
   "language": "python",
   "name": "python3"
  },
  "language_info": {
   "codemirror_mode": {
    "name": "ipython",
    "version": 3
   },
   "file_extension": ".py",
   "mimetype": "text/x-python",
   "name": "python",
   "nbconvert_exporter": "python",
   "pygments_lexer": "ipython3",
   "version": "3.6.9"
  }
 },
 "nbformat": 4,
 "nbformat_minor": 5
}

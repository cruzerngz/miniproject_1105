{
 "cells": [
  {
   "cell_type": "code",
   "execution_count": null,
   "id": "recorded-manor",
   "metadata": {},
   "outputs": [],
   "source": [
    "from tmdbv3api import TMDb, Movie\n",
    "from tmdbv3api import Account\n",
    "from tmdbv3api import Authentication\n",
    "\n",
    "##Import the rest of required libraries\n",
    "import time, random\n",
    "import numpy as np\n",
    "import pandas as pd\n",
    "import seaborn as sb\n",
    "import matplotlib.pyplot as plt # we only need pyplot\n",
    "sb.set(palette='icefire') # set the default Seaborn style for graphics\n",
    "\n",
    "##TMDB details\n",
    "##Account details for getting movie reccomendations\n",
    "##Run this block only once during a session\n",
    "tmdb = TMDb()\n",
    "tmdb.api_key = '0921b0cce35c0b2ec8b874614d1d0b47' ##insert apikey\n",
    "tmdb.language = 'en'\n",
    "\n",
    "USERNAME = \"cybercat94\"\n",
    "PASSWORD = \"Wave1994@\"\n",
    "auth = Authentication(username=USERNAME, password=PASSWORD)\n",
    "account = Account()\n",
    "details = account.details()\n",
    "movie = Movie()"
   ]
  },
  {
   "cell_type": "markdown",
   "id": "treated-insider",
   "metadata": {},
   "source": [
    "# List of functions\n",
    "#### 1. `Full_Mov_DB_2_CSV(date)`\n",
    "    TMDB provides daily exports of its entire database.\n",
    "    However, there are not many attributes to this list.\n",
    "    Takes a date param as string (YYYY-MM-DD), and writes the export for that day to a CSV file in the local folder.\n",
    "#### 2. `Dict_2_DF(dictionary_in)`\n",
    "    Converts a dictionary in the style of a DF into a Pandas Dataframe\n",
    "    E.g. each column has multiple rows containing the information for an index\n",
    "    **still a work in progress**"
   ]
  },
  {
   "cell_type": "code",
   "execution_count": null,
   "id": "twelve-tuning",
   "metadata": {},
   "outputs": [],
   "source": [
    "## Extract daily exports of entire TMBD database\n",
    "## Function accepts ISO 8601 spec for dates\n",
    "## e.g. Full_Mov_DB_2_CSV('YYYY-MM-DD')\n",
    "def Full_Mov_DB_2_CSV(date):\n",
    "    ## format the fetch url\n",
    "    db_online_path='http://files.tmdb.org/p/exports/movie_ids_'+date[5:7]+'_'+date[8:10]+'_'+date[:4]+'.json.gz'\n",
    "    print(\"Export link:\", db_online_path)\n",
    "    \n",
    "    ## will throw exception if url does not exist\n",
    "    try:\n",
    "        data_raw = pd.read_json(db_online_path, compression='gzip', lines=True)\n",
    "        print(\"Writing to file...\")\n",
    "    except:\n",
    "        print('Error in extracting file from link...\\nFile may not yet exist on TMDB.')\n",
    "        return\n",
    "    \n",
    "    ## format the local file name\n",
    "    db_path='FullDB_'+date+'.csv'\n",
    "    data_raw.to_csv(db_path)\n",
    "    print(\"Exported to local folder:\",db_path)"
   ]
  },
  {
   "cell_type": "markdown",
   "id": "devoted-contemporary",
   "metadata": {},
   "source": [
    "resultlist = movie.search(\"Star wars\")\n",
    "for i in range(len(resultlist)):\n",
    "    temp = pd.DataFrame.from_dict(resultlist[i], orient='index')\n",
    "    df_return = \n",
    "\n",
    "def dataframe_from_search(query):\n",
    "    if type(query) != str:\n",
    "        print(\"Enter string as search query\")\n",
    "        return\n",
    "    else:\n",
    "        querylist = movie.search(query)\n",
    "        temp = pd.DataFrame.from_dict(querylist[i])\n",
    "        for i in range(len(querylist)):\n",
    "            "
   ]
  },
  {
   "cell_type": "markdown",
   "id": "electronic-works",
   "metadata": {},
   "source": [
    "print(resultlist[0])\n",
    "test_df = pd.DataFrame.from_dict(resultlist[0], orient='index')\n",
    "print(test_df)"
   ]
  },
  {
   "cell_type": "markdown",
   "id": "proprietary-repository",
   "metadata": {},
   "source": [
    "# Cleaning up the dataset \n",
    "#### Remove entries that are:\n",
    "- movies release before 2000 (21st century movies in dataset)\n",
    "- movies with no financial information (0 box office and 0 budget)\n",
    "- \n"
   ]
  },
  {
   "cell_type": "code",
   "execution_count": null,
   "id": "selected-offering",
   "metadata": {},
   "outputs": [],
   "source": [
    "## Create local CSV file\n",
    "## hashed out this one as local fil for 2021-03-15 has already been created\n",
    "#### Full_Mov_DB_2_CSV('2021-03-15')"
   ]
  },
  {
   "cell_type": "code",
   "execution_count": null,
   "id": "speaking-diameter",
   "metadata": {},
   "outputs": [],
   "source": [
    "data_raw = pd.read_csv('FullDB_2021-03-15.csv')\n",
    "display(data_raw.describe())\n",
    "display(data_raw.head())"
   ]
  },
  {
   "cell_type": "code",
   "execution_count": null,
   "id": "minor-while",
   "metadata": {},
   "outputs": [],
   "source": [
    "## Taking a look at what col headers are present in movie details\n",
    "stats = movie.details(10000)\n",
    "print(pd.DataFrame(stats),'\\n')"
   ]
  },
  {
   "cell_type": "code",
   "execution_count": null,
   "id": "handed-layout",
   "metadata": {},
   "outputs": [],
   "source": [
    "## taking a peek at a movie's stats\n",
    "## does NOT use IMDB id, uses 'id' <- not sure about where this id comes from\n",
    "## taking a random movie id\n",
    "stats = movie.details(805900)\n",
    "movie_attributes = ['title','original_title','id','imdb_id','release_date','genres','budget','revenue','overview','popularity','spoken_languages','vote_average','production_companies','production_countries']\n",
    "for stuff in movie_attributes:\n",
    "    print(stuff,':',stats[stuff])\n",
    "## the 'casts' key contains too many items, using the next code box to look at casts\n",
    "## production countries may also have many elements for large movies"
   ]
  },
  {
   "cell_type": "code",
   "execution_count": null,
   "id": "rocky-fundamental",
   "metadata": {},
   "outputs": [],
   "source": [
    "## looking at actors in a specific movie\n",
    "cast_attributes = ['original_name','gender','popularity','adult']\n",
    "for thing in stats['casts']['cast']:\n",
    "    for item in cast_attributes:\n",
    "        print(item,':',thing[item])\n",
    "    print()"
   ]
  },
  {
   "cell_type": "code",
   "execution_count": null,
   "id": "nutritional-broad",
   "metadata": {},
   "outputs": [],
   "source": [
    "##looking at crew members in a specific movie\n",
    "crew_attributes = ['original_name','id','gender','adult', 'job','department','known_for_department']\n",
    "cast_count = len(stats['casts']['crew'])\n",
    "print('Number of cast members:', str(cast_count),'\\n')\n",
    "for item in stats['casts']['crew']:\n",
    "    for subitem in crew_attributes:\n",
    "        print(subitem,':',item[subitem])\n",
    "    print()"
   ]
  },
  {
   "cell_type": "code",
   "execution_count": null,
   "id": "worst-malawi",
   "metadata": {},
   "outputs": [],
   "source": [
    "test_df = pd.DataFrame.from_dict(stats['casts']['crew'][0], orient='index')\n",
    "#print(test_df,'\\n')\n",
    "#test_df.info()\n",
    "\n",
    "## Test code, still unfinished\n",
    "## Dictionary to DF process:\n",
    "## Extract dictionary, place into DataFrame\n",
    "## Concatenate consec data entries together\n",
    "## Recast columns into the appropriate data types\n",
    "new_df = None\n",
    "for item in stats['casts']['crew']:\n",
    "    sub_df = pd.DataFrame.from_dict(item, orient='index')\n",
    "    if new_df is None:\n",
    "        new_df = sub_df.T\n",
    "    else:\n",
    "        new_df = pd.concat([new_df, sub_df.T], sort=True)\n",
    "new_df = new_df.convert_dtypes()\n",
    "new_df.info()\n",
    "new_df"
   ]
  },
  {
   "cell_type": "code",
   "execution_count": null,
   "id": "ethical-disability",
   "metadata": {},
   "outputs": [],
   "source": [
    "## shortening the dataframe size so that code does not take forever to run\n",
    "## 10K entries is apparently too long\n",
    "## limit to 100 entries for now\n",
    "data_short = data_raw.head(10)\n",
    "data_short"
   ]
  },
  {
   "cell_type": "code",
   "execution_count": null,
   "id": "ethical-antique",
   "metadata": {},
   "outputs": [],
   "source": [
    "## checking the number of movies with financial data\n",
    "## only counts movies that have both budget and box office numbers (not zero)\n",
    "## Looks like the call rate is heavily limited after approximately 5000 calls\n",
    "## API calls after 6000 are reduced to around 4 per second\n",
    "## Call API in batches of 5000 or less to get past this bottleneck\n",
    "## Need to check the off time in between batches\n",
    "\n",
    "hit=0\n",
    "total_count=0\n",
    "total_uncount=0\n",
    "top=len(data_short['id'])\n",
    "\n",
    "for item_id in data_short['id']:\n",
    "    ## visual indication of progress\n",
    "    time.sleep(0.001)\n",
    "    if total_count+total_uncount == top-1:\n",
    "        print('API call complete:   '+str(total_count+total_uncount+1)+'/'+str(top))\n",
    "    else:\n",
    "        print('API calls: '+str(total_count+total_uncount+1)+'/'+str(top),end = \"\\r\")\n",
    "    \n",
    "    ## skips call if api barfs \n",
    "    try:\n",
    "        mov = movie.details(item_id)\n",
    "        if(mov['budget'] and mov['revenue']):\n",
    "            hit += 1\n",
    "        total_count += 1\n",
    "    except:\n",
    "        total_uncount += 1\n",
    "        \n",
    "print(\"Successful calls:   \",str(total_count))\n",
    "print(\"Unsuccessful calls: \",str(total_uncount))\n",
    "print(\"Percentage of movies with financial statistics: \",str(hit/total_count*100)+'%')"
   ]
  },
  {
   "cell_type": "code",
   "execution_count": null,
   "id": "residential-citizen",
   "metadata": {},
   "outputs": [],
   "source": [
    "## Wrapping the above code cell into a function\n",
    "## pass the 'id' column from daily export CSV into function\n",
    "## take the first 10 values and increment by an order of magnitude for each iteration\n",
    "\n",
    "def financialstat_counter(data):\n",
    "    hit=0\n",
    "    total_count=0\n",
    "    total_uncount=0\n",
    "    top=len(data)\n",
    "\n",
    "    for item_id in data:\n",
    "        ## visual indication of progress\n",
    "        time.sleep(0.001)\n",
    "        if total_count+total_uncount == top-1:\n",
    "            print('API call complete:   '+str(total_count+total_uncount+1)+'/'+str(top))\n",
    "        else:\n",
    "            print('API calls: '+str(total_count+total_uncount+1)+'/'+str(top),end = \"\\r\")\n",
    "\n",
    "        ## skips call if api barfs \n",
    "        try:\n",
    "            mov = movie.details(item_id)\n",
    "            if(mov['budget'] and mov['revenue']):\n",
    "                hit += 1\n",
    "            total_count += 1\n",
    "        except:\n",
    "            total_uncount += 1\n",
    "    \n",
    "    value=hit/total_count*100\n",
    "    print(\"Successful calls:   \",str(total_count))\n",
    "    print(\"Unsuccessful calls: \",str(total_uncount))\n",
    "    print(\"Percentage of movies with financial statistics: \",str(value)+'%\\n')\n",
    "    return value"
   ]
  },
  {
   "cell_type": "code",
   "execution_count": null,
   "id": "premier-condition",
   "metadata": {},
   "outputs": [],
   "source": [
    "rep_list = [1,10]\n",
    "count=0\n",
    "x=[]\n",
    "for rep in rep_list:\n",
    "    x.append(0.01 * financialstat_counter(random.sample(list(data_raw['id']),rep) ) )\n",
    "    count+=1\n",
    "    if count == len(rep_list):\n",
    "        break\n",
    "print(x)"
   ]
  },
  {
   "cell_type": "code",
   "execution_count": null,
   "id": "furnished-double",
   "metadata": {},
   "outputs": [],
   "source": [
    "list(data_raw['id'])\n",
    "data_raw['id'].head(20)"
   ]
  }
 ],
 "metadata": {
  "kernelspec": {
   "display_name": "Python 3",
   "language": "python",
   "name": "python3"
  },
  "language_info": {
   "codemirror_mode": {
    "name": "ipython",
    "version": 3
   },
   "file_extension": ".py",
   "mimetype": "text/x-python",
   "name": "python",
   "nbconvert_exporter": "python",
   "pygments_lexer": "ipython3",
   "version": "3.8.5"
  }
 },
 "nbformat": 4,
 "nbformat_minor": 5
}

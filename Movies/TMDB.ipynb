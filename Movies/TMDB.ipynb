{
 "cells": [
  {
   "cell_type": "code",
   "execution_count": 1,
   "id": "chemical-passenger",
   "metadata": {},
   "outputs": [],
   "source": [
    "from tmdbv3api import TMDb, Movie\n",
    "from tmdbv3api import Account\n",
    "from tmdbv3api import Authentication\n",
    "\n",
    "##Import the rest of required libraries\n",
    "import numpy as np\n",
    "import pandas as pd\n",
    "import seaborn as sb\n",
    "import matplotlib.pyplot as plt # we only need pyplot\n",
    "sb.set(palette='icefire') # set the default Seaborn style for graphics\n",
    "\n",
    "##TMDB details\n",
    "##Account details for getting movie reccomendations\n",
    "##Run this block only once during a session\n",
    "tmdb = TMDb()\n",
    "tmdb.api_key = '0921b0cce35c0b2ec8b874614d1d0b47' ##insert apikey\n",
    "tmdb.language = 'en'\n",
    "\n",
    "USERNAME = \"cybercat94\"\n",
    "PASSWORD = \"Wave1994@\"\n",
    "auth = Authentication(username=USERNAME, password=PASSWORD)\n",
    "account = Account()\n",
    "details = account.details()\n",
    "movie = Movie()"
   ]
  },
  {
   "cell_type": "markdown",
   "id": "younger-disposal",
   "metadata": {},
   "source": [
    "# List of functions\n",
    "#### 1. `Full_Mov_DB_2_CSV(date)`\n",
    "    TMDB provides daily exports of its entire database.\n",
    "    However, there are not many attributes to this list.\n",
    "    Takes a date param as string (YYYY-MM-DD), and writes the export for that day to a CSV file in the local folder"
   ]
  },
  {
   "cell_type": "code",
   "execution_count": 2,
   "id": "tutorial-irrigation",
   "metadata": {},
   "outputs": [],
   "source": [
    "## Extract daily exports of entire TMBD database\n",
    "## Function accepts ISO 8601 spec for dates\n",
    "## e.g. Full_Mov_DB_2_CSV('YYYY-MM-DD')\n",
    "def Full_Mov_DB_2_CSV(date):\n",
    "    db_online_path='http://files.tmdb.org/p/exports/movie_ids_'+date[5:7]+'_'+date[8:10]+'_'+date[:4]+'.json.gz'\n",
    "    print(\"Export link:\", db_online_path)\n",
    "    try:\n",
    "        data_raw = pd.read_json(db_online_path, compression='gzip', lines=True)\n",
    "        print(\"Writing to file...\")\n",
    "    except:\n",
    "        print('Error in extracting file from link...\\nFile may not yet exist on TMDB.')\n",
    "        return\n",
    "    \n",
    "    db_path='FullDB_'+date+'.csv'\n",
    "    data_raw.to_csv(db_path)\n",
    "    print(\"Exported to local folder:\",db_path)"
   ]
  },
  {
   "cell_type": "markdown",
   "id": "innocent-updating",
   "metadata": {},
   "source": [
    "resultlist = movie.search(\"Star wars\")\n",
    "for i in range(len(resultlist)):\n",
    "    temp = pd.DataFrame.from_dict(resultlist[i], orient='index')\n",
    "    df_return = \n",
    "\n",
    "def dataframe_from_search(query):\n",
    "    if type(query) != str:\n",
    "        print(\"Enter string as search query\")\n",
    "        return\n",
    "    else:\n",
    "        querylist = movie.search(query)\n",
    "        temp = pd.DataFrame.from_dict(querylist[i])\n",
    "        for i in range(len(querylist)):\n",
    "            "
   ]
  },
  {
   "cell_type": "markdown",
   "id": "responsible-yorkshire",
   "metadata": {},
   "source": [
    "print(resultlist[0])\n",
    "test_df = pd.DataFrame.from_dict(resultlist[0], orient='index')\n",
    "print(test_df)"
   ]
  },
  {
   "cell_type": "markdown",
   "id": "fifty-humidity",
   "metadata": {},
   "source": [
    "# Cleaning up the dataset \n",
    "#### Remove entries that are:\n",
    "- movies release before 2000 (21st century movies in dataset)\n",
    "- movies with no financial information (0 box office and 0 budget)\n",
    "- \n"
   ]
  },
  {
   "cell_type": "code",
   "execution_count": 3,
   "id": "floating-night",
   "metadata": {},
   "outputs": [
    {
     "name": "stdout",
     "output_type": "stream",
     "text": [
      "Export link: http://files.tmdb.org/p/exports/movie_ids_03_15_2021.json.gz\n",
      "Writing to file...\n",
      "Exported to local folder: FullDB_2021-03-15.csv\n"
     ]
    }
   ],
   "source": [
    "## Create local CSV file\n",
    "Full_Mov_DB_2_CSV('2021-03-15')"
   ]
  },
  {
   "cell_type": "code",
   "execution_count": 4,
   "id": "legal-execution",
   "metadata": {},
   "outputs": [
    {
     "data": {
      "text/html": [
       "<div>\n",
       "<style scoped>\n",
       "    .dataframe tbody tr th:only-of-type {\n",
       "        vertical-align: middle;\n",
       "    }\n",
       "\n",
       "    .dataframe tbody tr th {\n",
       "        vertical-align: top;\n",
       "    }\n",
       "\n",
       "    .dataframe thead th {\n",
       "        text-align: right;\n",
       "    }\n",
       "</style>\n",
       "<table border=\"1\" class=\"dataframe\">\n",
       "  <thead>\n",
       "    <tr style=\"text-align: right;\">\n",
       "      <th></th>\n",
       "      <th>Unnamed: 0</th>\n",
       "      <th>id</th>\n",
       "      <th>popularity</th>\n",
       "    </tr>\n",
       "  </thead>\n",
       "  <tbody>\n",
       "    <tr>\n",
       "      <th>count</th>\n",
       "      <td>589030.000000</td>\n",
       "      <td>589030.000000</td>\n",
       "      <td>589030.000000</td>\n",
       "    </tr>\n",
       "    <tr>\n",
       "      <th>mean</th>\n",
       "      <td>294514.500000</td>\n",
       "      <td>424643.205338</td>\n",
       "      <td>2.038660</td>\n",
       "    </tr>\n",
       "    <tr>\n",
       "      <th>std</th>\n",
       "      <td>170038.458868</td>\n",
       "      <td>227787.276924</td>\n",
       "      <td>13.428002</td>\n",
       "    </tr>\n",
       "    <tr>\n",
       "      <th>min</th>\n",
       "      <td>0.000000</td>\n",
       "      <td>2.000000</td>\n",
       "      <td>0.000000</td>\n",
       "    </tr>\n",
       "    <tr>\n",
       "      <th>25%</th>\n",
       "      <td>147257.250000</td>\n",
       "      <td>255399.250000</td>\n",
       "      <td>0.600000</td>\n",
       "    </tr>\n",
       "    <tr>\n",
       "      <th>50%</th>\n",
       "      <td>294514.500000</td>\n",
       "      <td>431652.500000</td>\n",
       "      <td>0.600000</td>\n",
       "    </tr>\n",
       "    <tr>\n",
       "      <th>75%</th>\n",
       "      <td>441771.750000</td>\n",
       "      <td>618026.000000</td>\n",
       "      <td>1.365000</td>\n",
       "    </tr>\n",
       "    <tr>\n",
       "      <th>max</th>\n",
       "      <td>589029.000000</td>\n",
       "      <td>806096.000000</td>\n",
       "      <td>5726.502000</td>\n",
       "    </tr>\n",
       "  </tbody>\n",
       "</table>\n",
       "</div>"
      ],
      "text/plain": [
       "          Unnamed: 0             id     popularity\n",
       "count  589030.000000  589030.000000  589030.000000\n",
       "mean   294514.500000  424643.205338       2.038660\n",
       "std    170038.458868  227787.276924      13.428002\n",
       "min         0.000000       2.000000       0.000000\n",
       "25%    147257.250000  255399.250000       0.600000\n",
       "50%    294514.500000  431652.500000       0.600000\n",
       "75%    441771.750000  618026.000000       1.365000\n",
       "max    589029.000000  806096.000000    5726.502000"
      ]
     },
     "metadata": {},
     "output_type": "display_data"
    },
    {
     "data": {
      "text/html": [
       "<div>\n",
       "<style scoped>\n",
       "    .dataframe tbody tr th:only-of-type {\n",
       "        vertical-align: middle;\n",
       "    }\n",
       "\n",
       "    .dataframe tbody tr th {\n",
       "        vertical-align: top;\n",
       "    }\n",
       "\n",
       "    .dataframe thead th {\n",
       "        text-align: right;\n",
       "    }\n",
       "</style>\n",
       "<table border=\"1\" class=\"dataframe\">\n",
       "  <thead>\n",
       "    <tr style=\"text-align: right;\">\n",
       "      <th></th>\n",
       "      <th>Unnamed: 0</th>\n",
       "      <th>adult</th>\n",
       "      <th>id</th>\n",
       "      <th>original_title</th>\n",
       "      <th>popularity</th>\n",
       "      <th>video</th>\n",
       "    </tr>\n",
       "  </thead>\n",
       "  <tbody>\n",
       "    <tr>\n",
       "      <th>0</th>\n",
       "      <td>0</td>\n",
       "      <td>False</td>\n",
       "      <td>3924</td>\n",
       "      <td>Blondie</td>\n",
       "      <td>3.837</td>\n",
       "      <td>False</td>\n",
       "    </tr>\n",
       "    <tr>\n",
       "      <th>1</th>\n",
       "      <td>1</td>\n",
       "      <td>False</td>\n",
       "      <td>6124</td>\n",
       "      <td>Der Mann ohne Namen</td>\n",
       "      <td>0.600</td>\n",
       "      <td>False</td>\n",
       "    </tr>\n",
       "    <tr>\n",
       "      <th>2</th>\n",
       "      <td>2</td>\n",
       "      <td>False</td>\n",
       "      <td>8773</td>\n",
       "      <td>L'amour à vingt ans</td>\n",
       "      <td>2.932</td>\n",
       "      <td>False</td>\n",
       "    </tr>\n",
       "    <tr>\n",
       "      <th>3</th>\n",
       "      <td>3</td>\n",
       "      <td>False</td>\n",
       "      <td>25449</td>\n",
       "      <td>New World Disorder 9: Never Enough</td>\n",
       "      <td>2.981</td>\n",
       "      <td>False</td>\n",
       "    </tr>\n",
       "    <tr>\n",
       "      <th>4</th>\n",
       "      <td>4</td>\n",
       "      <td>False</td>\n",
       "      <td>31975</td>\n",
       "      <td>Sesame Street: Elmo Loves You!</td>\n",
       "      <td>1.965</td>\n",
       "      <td>True</td>\n",
       "    </tr>\n",
       "  </tbody>\n",
       "</table>\n",
       "</div>"
      ],
      "text/plain": [
       "   Unnamed: 0  adult     id                      original_title  popularity  \\\n",
       "0           0  False   3924                             Blondie       3.837   \n",
       "1           1  False   6124                 Der Mann ohne Namen       0.600   \n",
       "2           2  False   8773                 L'amour à vingt ans       2.932   \n",
       "3           3  False  25449  New World Disorder 9: Never Enough       2.981   \n",
       "4           4  False  31975      Sesame Street: Elmo Loves You!       1.965   \n",
       "\n",
       "   video  \n",
       "0  False  \n",
       "1  False  \n",
       "2  False  \n",
       "3  False  \n",
       "4   True  "
      ]
     },
     "metadata": {},
     "output_type": "display_data"
    }
   ],
   "source": [
    "data_raw = pd.read_csv('FullDB_2021-03-15.csv')\n",
    "display(data_raw.describe())\n",
    "display(data_raw.head())"
   ]
  },
  {
   "cell_type": "code",
   "execution_count": null,
   "id": "automatic-guitar",
   "metadata": {},
   "outputs": [],
   "source": []
  },
  {
   "cell_type": "code",
   "execution_count": 5,
   "id": "diagnostic-division",
   "metadata": {},
   "outputs": [
    {
     "name": "stdout",
     "output_type": "stream",
     "text": [
      "                        0\n",
      "0                   adult\n",
      "1           backdrop_path\n",
      "2   belongs_to_collection\n",
      "3                  budget\n",
      "4                  genres\n",
      "5                homepage\n",
      "6                      id\n",
      "7                 imdb_id\n",
      "8       original_language\n",
      "9          original_title\n",
      "10               overview\n",
      "11             popularity\n",
      "12            poster_path\n",
      "13   production_companies\n",
      "14   production_countries\n",
      "15           release_date\n",
      "16                revenue\n",
      "17                runtime\n",
      "18       spoken_languages\n",
      "19                 status\n",
      "20                tagline\n",
      "21                  title\n",
      "22                  video\n",
      "23           vote_average\n",
      "24             vote_count\n",
      "25                 videos\n",
      "26               trailers\n",
      "27                 images\n",
      "28                  casts\n",
      "29           translations\n",
      "30               keywords\n",
      "31          release_dates \n",
      "\n"
     ]
    }
   ],
   "source": [
    "## Taking a look at what col headers are present in movie details\n",
    "stats = movie.details(10000)\n",
    "print(pd.DataFrame(stats),'\\n')"
   ]
  },
  {
   "cell_type": "code",
   "execution_count": 6,
   "id": "small-parts",
   "metadata": {},
   "outputs": [
    {
     "name": "stdout",
     "output_type": "stream",
     "text": [
      "title : Studio One: Wuthering Heights\n",
      "original_title : Studio One: Wuthering Heights\n",
      "id : 500505\n",
      "imdb_id : tt0284665\n",
      "release_date : 1950-10-30\n",
      "genres : [{'id': 18, 'name': 'Drama'}]\n",
      "budget : 0\n",
      "revenue : 0\n",
      "overview : Mistreated foundling Heathcliff and his stepsister Catherine fall in love, but when she marries a wealthy man, he becomes obsessed with getting revenge, even well into the next generation.\n",
      "popularity : 0.6\n",
      "spoken_languages : [{'english_name': 'English', 'iso_639_1': 'en', 'name': 'English'}]\n",
      "vote_average : 0.0\n",
      "casts : {'cast': [{'adult': False, 'gender': 2, 'id': 10017, 'known_for_department': 'Acting', 'name': 'Charlton Heston', 'original_name': 'Charlton Heston', 'popularity': 5.205, 'profile_path': '/31Z0NOxctaaLPk7Nq60eeQaDHJa.jpg', 'cast_id': 4, 'character': 'Heathcliff', 'credit_id': '5a67e76b0e0a2653ac00234e', 'order': 1}, {'adult': False, 'gender': 0, 'id': 154433, 'known_for_department': 'Acting', 'name': 'Mary Sinclair', 'original_name': 'Mary Sinclair', 'popularity': 1.96, 'profile_path': '/7sAMkDHJgsBxto7TkdzIsPp4Lxb.jpg', 'cast_id': 5, 'character': 'Catherine Earnshaw Linton', 'credit_id': '5a67e7759251411bbb002045', 'order': 2}, {'adult': False, 'gender': 2, 'id': 138234, 'known_for_department': 'Acting', 'name': 'Richard Waring', 'original_name': 'Richard Waring', 'popularity': 0.6, 'profile_path': '/mv7tS4ZsbIyNY4JEiKUcoPNvMyP.jpg', 'cast_id': 6, 'character': 'Hindley Earnshaw', 'credit_id': '5a67e7830e0a2653a2002196', 'order': 3}, {'adult': False, 'gender': 1, 'id': 161326, 'known_for_department': 'Acting', 'name': 'June Dayton', 'original_name': 'June Dayton', 'popularity': 0.6, 'profile_path': '/znjsrAcSLaQvAkHJkcLB20wrWCO.jpg', 'cast_id': 7, 'character': 'Isabella Linton', 'credit_id': '5a67e78e0e0a2653af0022dd', 'order': 4}, {'adult': False, 'gender': 2, 'id': 13399, 'known_for_department': 'Acting', 'name': 'Lloyd Bochner', 'original_name': 'Lloyd Bochner', 'popularity': 1.467, 'profile_path': '/wNtVVJbQkBaL5t0b9f5eUa9X6PS.jpg', 'cast_id': 8, 'character': 'Edgar Linton', 'credit_id': '5a67e7979251411bca002082', 'order': 5}], 'crew': [{'adult': False, 'gender': 1, 'id': 30224, 'known_for_department': 'Writing', 'name': 'Emily Brontë', 'original_name': 'Emily Brontë', 'popularity': 0.6, 'profile_path': '/oxEJAxnAcGwpHyahGrylRrz9eax.jpg', 'credit_id': '5a67e74c9251411bbb002015', 'department': 'Writing', 'job': 'Author'}, {'adult': False, 'gender': 2, 'id': 190704, 'known_for_department': 'Production', 'name': 'Worthington Miner', 'original_name': 'Worthington Miner', 'popularity': 1.008, 'profile_path': None, 'credit_id': '5a67e75ec3a36844ef00217c', 'department': 'Production', 'job': 'Producer'}, {'adult': False, 'gender': 2, 'id': 1899968, 'known_for_department': 'Directing', 'name': 'Paul Nickell', 'original_name': 'Paul Nickell', 'popularity': 0.6, 'profile_path': None, 'credit_id': '5a67e7439251411bc100204c', 'department': 'Directing', 'job': 'Director'}, {'adult': False, 'gender': 0, 'id': 1966084, 'known_for_department': 'Writing', 'name': 'Lois Jacoby', 'original_name': 'Lois Jacoby', 'popularity': 0.6, 'profile_path': None, 'credit_id': '5a67e7540e0a2653a600233f', 'department': 'Writing', 'job': 'Adaptation'}]}\n",
      "production_companies : [{'id': 100059, 'logo_path': None, 'name': \"Westinghouse's Studio One\", 'origin_country': ''}, {'id': 2161, 'logo_path': '/kaHPCUD2nQ1DGWDAH3zbYVCkTae.png', 'name': 'CBS Productions', 'origin_country': 'US'}]\n",
      "production_countries : [{'iso_3166_1': 'US', 'name': 'United States of America'}]\n"
     ]
    }
   ],
   "source": [
    "## taking a peek at a movie's stats\n",
    "## does NOT use IMDB id, uses 'id' <- not sure about where this id comes from\n",
    "stats = movie.details(500505)\n",
    "stuff_that_matters = ['title','original_title','id','imdb_id','release_date','genres','budget','revenue','overview','popularity','spoken_languages','vote_average','casts','production_companies','production_countries']\n",
    "for stuff in stuff_that_matters:\n",
    "    print(stuff,':',stats[stuff])"
   ]
  },
  {
   "cell_type": "code",
   "execution_count": 34,
   "id": "threatened-holiday",
   "metadata": {},
   "outputs": [
    {
     "name": "stdout",
     "output_type": "stream",
     "text": [
      "original_name : Charlton Heston\n",
      "gender : 2\n",
      "popularity : 5.205\n",
      "adult : False\n",
      "\n",
      "original_name : Mary Sinclair\n",
      "gender : 0\n",
      "popularity : 1.96\n",
      "adult : False\n",
      "\n",
      "original_name : Richard Waring\n",
      "gender : 2\n",
      "popularity : 0.6\n",
      "adult : False\n",
      "\n",
      "original_name : June Dayton\n",
      "gender : 1\n",
      "popularity : 0.6\n",
      "adult : False\n",
      "\n",
      "original_name : Lloyd Bochner\n",
      "gender : 2\n",
      "popularity : 1.467\n",
      "adult : False\n",
      "\n"
     ]
    }
   ],
   "source": [
    "## looking at actors in a specific movie\n",
    "thing_list = ['original_name','gender','popularity','adult']\n",
    "for thing in stats['casts']['cast']:\n",
    "    for item in thing_list:\n",
    "        print(item,':',thing[item])\n",
    "    print()"
   ]
  },
  {
   "cell_type": "code",
   "execution_count": 37,
   "id": "afraid-scott",
   "metadata": {},
   "outputs": [
    {
     "name": "stdout",
     "output_type": "stream",
     "text": [
      "<class 'pandas.core.frame.DataFrame'>\n",
      "RangeIndex: 10 entries, 0 to 9\n",
      "Data columns (total 6 columns):\n",
      " #   Column          Non-Null Count  Dtype  \n",
      "---  ------          --------------  -----  \n",
      " 0   Unnamed: 0      10 non-null     int64  \n",
      " 1   adult           10 non-null     bool   \n",
      " 2   id              10 non-null     int64  \n",
      " 3   original_title  10 non-null     object \n",
      " 4   popularity      10 non-null     float64\n",
      " 5   video           10 non-null     bool   \n",
      "dtypes: bool(2), float64(1), int64(2), object(1)\n",
      "memory usage: 468.0+ bytes\n"
     ]
    }
   ],
   "source": [
    "## shortening the dataframe size so that code does not take forever to run\n",
    "## 10K entries is apparently too long\n",
    "## limit to 100 entries for now\n",
    "data_short = data_raw.head(10)\n",
    "data_short.info()"
   ]
  },
  {
   "cell_type": "code",
   "execution_count": 36,
   "id": "spoken-remains",
   "metadata": {},
   "outputs": [
    {
     "name": "stdout",
     "output_type": "stream",
     "text": [
      "Percentage of movies with financial statistics:  20.0%\n"
     ]
    }
   ],
   "source": [
    "has_money=0\n",
    "total=0\n",
    "\n",
    "for item_id in data_short['id']:\n",
    "    mov = movie.details(item_id)\n",
    "    if(mov['budget'] and mov['revenue']):\n",
    "        has_money += 1\n",
    "        total += 1\n",
    "    else:\n",
    "        total += 1\n",
    "print(\"Percentage of movies with financial statistics: \",str(has_money/total*100)+'%')"
   ]
  }
 ],
 "metadata": {
  "kernelspec": {
   "display_name": "Python 3",
   "language": "python",
   "name": "python3"
  },
  "language_info": {
   "codemirror_mode": {
    "name": "ipython",
    "version": 3
   },
   "file_extension": ".py",
   "mimetype": "text/x-python",
   "name": "python",
   "nbconvert_exporter": "python",
   "pygments_lexer": "ipython3",
   "version": "3.6.9"
  }
 },
 "nbformat": 4,
 "nbformat_minor": 5
}

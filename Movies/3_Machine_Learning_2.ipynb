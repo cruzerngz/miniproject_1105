{
 "cells": [
  {
   "cell_type": "code",
   "execution_count": 1,
   "id": "75f948e3-22c0-4c4a-b571-cbf656332dae",
   "metadata": {},
   "outputs": [],
   "source": [
    "## Basic Libraries\n",
    "import numpy as np\n",
    "import pandas as pd\n",
    "import seaborn as sb\n",
    "import matplotlib.pyplot as plt \n",
    "sb.set(palette='icefire')\n",
    "\n",
    "## Machine learning libraries\n",
    "from sklearn.model_selection import train_test_split\n",
    "from sklearn.ensemble import AdaBoostClassifier, GradientBoostingClassifier, BaggingClassifier, RandomForestClassifier, ExtraTreesClassifier\n",
    "from sklearn.neighbors import KNeighborsClassifier\n",
    "from sklearn import preprocessing, metrics\n",
    "import xgboost\n",
    "\n",
    "from collections import Counter\n",
    "import statistics as stat\n",
    "import hashlib ## for converting strings into unique ints\n",
    "import _functions_1115 as func"
   ]
  },
  {
   "cell_type": "code",
   "execution_count": 2,
   "id": "52cde1d8-94a0-42bb-ad4c-7715290a6a4d",
   "metadata": {},
   "outputs": [
    {
     "name": "stderr",
     "output_type": "stream",
     "text": [
      "/home/jr/Documents/GitHub/miniproject_1115/Movies/_functions_1115.py:269: SettingWithCopyWarning: \n",
      "A value is trying to be set on a copy of a slice from a DataFrame\n",
      "\n",
      "See the caveats in the documentation: https://pandas.pydata.org/pandas-docs/stable/user_guide/indexing.html#returning-a-view-versus-a-copy\n",
      "  df_in.dropna(axis=0, subset=['producer_0',], inplace=True)\n",
      "/home/jr/.local/lib/python3.6/site-packages/pandas/core/frame.py:4174: SettingWithCopyWarning: \n",
      "A value is trying to be set on a copy of a slice from a DataFrame\n",
      "\n",
      "See the caveats in the documentation: https://pandas.pydata.org/pandas-docs/stable/user_guide/indexing.html#returning-a-view-versus-a-copy\n",
      "  errors=errors,\n"
     ]
    }
   ],
   "source": [
    "data = func.makeready(pd.read_csv('./data/Final_Movie_Data_Cleaned.csv'))"
   ]
  },
  {
   "cell_type": "code",
   "execution_count": 3,
   "id": "02bc4ba9-4e20-4544-8835-ef6f0aef823f",
   "metadata": {
    "jupyter": {
     "source_hidden": true
    },
    "tags": []
   },
   "outputs": [
    {
     "name": "stdout",
     "output_type": "stream",
     "text": [
      "<class 'pandas.core.frame.DataFrame'>\n",
      "RangeIndex: 1836 entries, 0 to 1835\n",
      "Data columns (total 45 columns):\n",
      " #   Column                  Non-Null Count  Dtype  \n",
      "---  ------                  --------------  -----  \n",
      " 0   Unnamed: 0              1836 non-null   Int64  \n",
      " 1   tmdb_id                 1836 non-null   Int64  \n",
      " 2   imdb_id                 1836 non-null   string \n",
      " 3   year_film               1836 non-null   Int64  \n",
      " 4   year_ceremony           1836 non-null   Int64  \n",
      " 5   film                    1836 non-null   string \n",
      " 6   oscar_category          1836 non-null   string \n",
      " 7   nominee                 1836 non-null   string \n",
      " 8   oscar_win               1836 non-null   boolean\n",
      " 9   no_oscar_wins           1836 non-null   Int64  \n",
      " 10  no_oscar_nominations    1836 non-null   Int64  \n",
      " 11  staring_casts           1836 non-null   string \n",
      " 12  casts_popularity        1836 non-null   float64\n",
      " 13  director                1836 non-null   string \n",
      " 14  producers               1836 non-null   string \n",
      " 15  screenplay              1836 non-null   string \n",
      " 16  crew_popularity         1836 non-null   float64\n",
      " 17  budget                  1836 non-null   float64\n",
      " 18  revenue                 1836 non-null   float64\n",
      " 19  runtime                 1836 non-null   Int64  \n",
      " 20  tmdb_vote_average       1836 non-null   Int64  \n",
      " 21  tmdb_vote_count         1836 non-null   Int64  \n",
      " 22  imdb_rating             1836 non-null   Int64  \n",
      " 23  imdb_votes              1836 non-null   Int64  \n",
      " 24  rotten_tomatoes_rating  1836 non-null   float64\n",
      " 25  metascore               1836 non-null   float64\n",
      " 26  total_wins              1836 non-null   Int64  \n",
      " 27  total_nominations       1836 non-null   Int64  \n",
      " 28  Action                  1836 non-null   Int64  \n",
      " 29  Adventure               1836 non-null   Int64  \n",
      " 30  Animation               1836 non-null   Int64  \n",
      " 31  Comedy                  1836 non-null   Int64  \n",
      " 32  Crime                   1836 non-null   Int64  \n",
      " 33  Drama                   1836 non-null   Int64  \n",
      " 34  Family                  1836 non-null   Int64  \n",
      " 35  Fantasy                 1836 non-null   Int64  \n",
      " 36  History                 1836 non-null   Int64  \n",
      " 37  Horror                  1836 non-null   Int64  \n",
      " 38  Music                   1836 non-null   Int64  \n",
      " 39  Mystery                 1836 non-null   Int64  \n",
      " 40  Romance                 1836 non-null   Int64  \n",
      " 41  Science Fiction         1836 non-null   Int64  \n",
      " 42  Thriller                1836 non-null   Int64  \n",
      " 43  War                     1836 non-null   Int64  \n",
      " 44  Western                 1836 non-null   Int64  \n",
      "dtypes: Int64(30), boolean(1), float64(6), string(8)\n",
      "memory usage: 688.6 KB\n"
     ]
    }
   ],
   "source": [
    "data_raw=pd.read_csv('./data/Final_Movie_Data_Cleaned.csv')\n",
    "data_raw.convert_dtypes().info()"
   ]
  },
  {
   "cell_type": "code",
   "execution_count": 4,
   "id": "c145a59d-a4a4-4367-9892-17eac6a8a423",
   "metadata": {},
   "outputs": [],
   "source": [
    "## removing the last header that is not required for ML\n",
    "data_ml = data.drop('film', axis=1)\n",
    "## hashing all string columns into ints\n",
    "fields = data_ml.select_dtypes('object').columns.tolist()\n",
    "for field in fields:\n",
    "    data_ml[field] = data_ml[field].apply(lambda x: int(hashlib.sha256(x.encode('utf-8')).hexdigest(),16) % 10**8)"
   ]
  },
  {
   "cell_type": "code",
   "execution_count": 5,
   "id": "35645a4e-6ec4-4def-9f36-9ac5ae306f56",
   "metadata": {},
   "outputs": [
    {
     "name": "stdout",
     "output_type": "stream",
     "text": [
      "<class 'pandas.core.frame.DataFrame'>\n",
      "Int64Index: 1776 entries, 1 to 1835\n",
      "Data columns (total 36 columns):\n",
      " #   Column             Non-Null Count  Dtype  \n",
      "---  ------             --------------  -----  \n",
      " 0   oscar_cat          1776 non-null   int64  \n",
      " 1   oscar_win          1776 non-null   bool   \n",
      " 2   oscar_nominations  1776 non-null   int64  \n",
      " 3   total_wins         1776 non-null   int64  \n",
      " 4   total_nominations  1776 non-null   int64  \n",
      " 5   cast_popularity    1776 non-null   float64\n",
      " 6   crew_popularity    1776 non-null   float64\n",
      " 7   tmdb_vote_average  1776 non-null   int64  \n",
      " 8   tmdb_vote_count    1776 non-null   int64  \n",
      " 9   imdb_rating        1776 non-null   int64  \n",
      " 10  imdb_votes         1776 non-null   int64  \n",
      " 11  rotten_tomatoes    1776 non-null   float64\n",
      " 12  metascore          1776 non-null   float64\n",
      " 13  director           1776 non-null   int64  \n",
      " 14  cast_0             1776 non-null   int64  \n",
      " 15  cast_1             1776 non-null   int64  \n",
      " 16  cast_2             1776 non-null   int64  \n",
      " 17  cast_3             1776 non-null   int64  \n",
      " 18  producer_0         1776 non-null   int64  \n",
      " 19  Drama              1776 non-null   int64  \n",
      " 20  History            1776 non-null   int64  \n",
      " 21  Music              1776 non-null   int64  \n",
      " 22  Action             1776 non-null   int64  \n",
      " 23  Adventure          1776 non-null   int64  \n",
      " 24  Animation          1776 non-null   int64  \n",
      " 25  Comedy             1776 non-null   int64  \n",
      " 26  Crime              1776 non-null   int64  \n",
      " 27  Family             1776 non-null   int64  \n",
      " 28  Fantasy            1776 non-null   int64  \n",
      " 29  Horror             1776 non-null   int64  \n",
      " 30  Mystery            1776 non-null   int64  \n",
      " 31  Romance            1776 non-null   int64  \n",
      " 32  Science Fiction    1776 non-null   int64  \n",
      " 33  Thriller           1776 non-null   int64  \n",
      " 34  War                1776 non-null   int64  \n",
      " 35  Western            1776 non-null   int64  \n",
      "dtypes: bool(1), float64(4), int64(31)\n",
      "memory usage: 501.2 KB\n"
     ]
    }
   ],
   "source": [
    "data_ml.info()"
   ]
  },
  {
   "cell_type": "code",
   "execution_count": 6,
   "id": "5975760b-ecf1-4770-acf2-535dc51f270a",
   "metadata": {},
   "outputs": [],
   "source": [
    "accuracy={}\n",
    "matrix={}"
   ]
  },
  {
   "cell_type": "code",
   "execution_count": 7,
   "id": "49860201-c616-466b-b6c3-0e2e72081208",
   "metadata": {
    "tags": []
   },
   "outputs": [
    {
     "data": {
      "text/html": [
       "<div>\n",
       "<style scoped>\n",
       "    .dataframe tbody tr th:only-of-type {\n",
       "        vertical-align: middle;\n",
       "    }\n",
       "\n",
       "    .dataframe tbody tr th {\n",
       "        vertical-align: top;\n",
       "    }\n",
       "\n",
       "    .dataframe thead th {\n",
       "        text-align: right;\n",
       "    }\n",
       "</style>\n",
       "<table border=\"1\" class=\"dataframe\">\n",
       "  <thead>\n",
       "    <tr style=\"text-align: right;\">\n",
       "      <th></th>\n",
       "      <th>oscar_cat</th>\n",
       "      <th>oscar_nominations</th>\n",
       "      <th>total_wins</th>\n",
       "      <th>total_nominations</th>\n",
       "      <th>cast_popularity</th>\n",
       "      <th>crew_popularity</th>\n",
       "      <th>tmdb_vote_average</th>\n",
       "      <th>tmdb_vote_count</th>\n",
       "      <th>imdb_rating</th>\n",
       "      <th>imdb_votes</th>\n",
       "      <th>...</th>\n",
       "      <th>Crime</th>\n",
       "      <th>Family</th>\n",
       "      <th>Fantasy</th>\n",
       "      <th>Horror</th>\n",
       "      <th>Mystery</th>\n",
       "      <th>Romance</th>\n",
       "      <th>Science Fiction</th>\n",
       "      <th>Thriller</th>\n",
       "      <th>War</th>\n",
       "      <th>Western</th>\n",
       "    </tr>\n",
       "  </thead>\n",
       "  <tbody>\n",
       "    <tr>\n",
       "      <th>1</th>\n",
       "      <td>91107069</td>\n",
       "      <td>5</td>\n",
       "      <td>8</td>\n",
       "      <td>13</td>\n",
       "      <td>48.935</td>\n",
       "      <td>15.675</td>\n",
       "      <td>73</td>\n",
       "      <td>87</td>\n",
       "      <td>78</td>\n",
       "      <td>10534</td>\n",
       "      <td>...</td>\n",
       "      <td>0</td>\n",
       "      <td>0</td>\n",
       "      <td>0</td>\n",
       "      <td>0</td>\n",
       "      <td>0</td>\n",
       "      <td>0</td>\n",
       "      <td>0</td>\n",
       "      <td>0</td>\n",
       "      <td>0</td>\n",
       "      <td>0</td>\n",
       "    </tr>\n",
       "  </tbody>\n",
       "</table>\n",
       "<p>1 rows × 35 columns</p>\n",
       "</div>"
      ],
      "text/plain": [
       "   oscar_cat  oscar_nominations  total_wins  total_nominations  \\\n",
       "1   91107069                  5           8                 13   \n",
       "\n",
       "   cast_popularity  crew_popularity  tmdb_vote_average  tmdb_vote_count  \\\n",
       "1           48.935           15.675                 73               87   \n",
       "\n",
       "   imdb_rating  imdb_votes  ...  Crime  Family  Fantasy  Horror  Mystery  \\\n",
       "1           78       10534  ...      0       0        0       0        0   \n",
       "\n",
       "   Romance  Science Fiction  Thriller  War  Western  \n",
       "1        0                0         0    0        0  \n",
       "\n",
       "[1 rows x 35 columns]"
      ]
     },
     "metadata": {},
     "output_type": "display_data"
    },
    {
     "name": "stdout",
     "output_type": "stream",
     "text": [
      "Accuracy: 0.8220720720720721\n"
     ]
    }
   ],
   "source": [
    "## ML part (re-run with some headers included/ommited to see which is best)\n",
    "results = data_ml['oscar_win'] ## response\n",
    "movinfo = data_ml.drop(['oscar_win'#,'oscar_cat','director','producer_0','cast_3','cast_2','cast_1','cast_0'\n",
    "                        ], axis=1) ## predictor, vary the columns used\n",
    "display(movinfo.head(1))\n",
    "## default split is 75% train, 25% test\n",
    "movinfo_train, movinfo_test, results_train, results_test = train_test_split(movinfo, results) \n",
    "\n",
    "## Adaboost, OK\n",
    "adaboost = AdaBoostClassifier(n_estimators=100, ## number of weak learners to be trained iteratively, more may be better, see results\n",
    "                             learning_rate=0.2) ## something to do with how the weak learners are weighted\n",
    "model = adaboost.fit(movinfo_train, results_train)\n",
    "\n",
    "## Try out the model on test data\n",
    "results_pred = model.predict(movinfo_test)\n",
    "accuracy['adaboost'] = metrics.accuracy_score(results_test, results_pred)\n",
    "matrix['adaboost'] = metrics.confusion_matrix(results_test, results_pred)\n",
    "print(\"Accuracy:\", accuracy['adaboost'])"
   ]
  },
  {
   "cell_type": "code",
   "execution_count": 8,
   "id": "6871f62e-fae8-4d20-9eb5-12782cab4500",
   "metadata": {},
   "outputs": [
    {
     "name": "stdout",
     "output_type": "stream",
     "text": [
      "Sound of Metal : [0.52015338 0.47984662]\n",
      "Ma Rainey's Black Bottom : [0.5243182 0.4756818]\n",
      "The Father : [0.52453236 0.47546764]\n",
      "Mank : [0.51377866 0.48622134]\n",
      "Minari : [0.5181595 0.4818405]\n"
     ]
    },
    {
     "name": "stderr",
     "output_type": "stream",
     "text": [
      "/home/jr/Documents/GitHub/miniproject_1115/Movies/_functions_1115.py:269: SettingWithCopyWarning: \n",
      "A value is trying to be set on a copy of a slice from a DataFrame\n",
      "\n",
      "See the caveats in the documentation: https://pandas.pydata.org/pandas-docs/stable/user_guide/indexing.html#returning-a-view-versus-a-copy\n",
      "  df_in.dropna(axis=0, subset=['producer_0',], inplace=True)\n",
      "/home/jr/.local/lib/python3.6/site-packages/pandas/core/frame.py:4174: SettingWithCopyWarning: \n",
      "A value is trying to be set on a copy of a slice from a DataFrame\n",
      "\n",
      "See the caveats in the documentation: https://pandas.pydata.org/pandas-docs/stable/user_guide/indexing.html#returning-a-view-versus-a-copy\n",
      "  errors=errors,\n"
     ]
    }
   ],
   "source": [
    "nom_bestactor = func.makeready(pd.read_csv('./data/best_actor_nominee.csv'))\n",
    "## removing the last header that is not required for ML\n",
    "nom_bestactor_noname = nom_bestactor.drop('film', axis=1)\n",
    "## hashing all string columns into ints\n",
    "fields = nom_bestactor_noname.select_dtypes('object').columns.tolist()\n",
    "for field in fields:\n",
    "    nom_bestactor_noname[field] = nom_bestactor_noname[field].apply(lambda x: int(hashlib.sha256(x.encode('utf-8')).hexdigest(),16) % 10**8)\n",
    "    \n",
    "bestactor = model.predict_proba(nom_bestactor_noname.drop('oscar_win',axis=1))\n",
    "for index in range(len(bestactor)):\n",
    "    print(nom_bestactor['film'][index],':', bestactor[index])"
   ]
  },
  {
   "cell_type": "code",
   "execution_count": 9,
   "id": "5132e121-83f3-4fda-9e06-7f4ffa67140d",
   "metadata": {},
   "outputs": [
    {
     "name": "stdout",
     "output_type": "stream",
     "text": [
      "Ma Rainey's Black Bottom : [0.51861474 0.48138526]\n",
      "The United States vs. Billie Holiday : [0.52530005 0.47469995]\n",
      "Pieces of a Woman : [0.52550644 0.47449356]\n",
      "Nomadland : [0.50930334 0.49069666]\n",
      "Promising Young Woman : [0.51468745 0.48531255]\n"
     ]
    },
    {
     "name": "stderr",
     "output_type": "stream",
     "text": [
      "/home/jr/Documents/GitHub/miniproject_1115/Movies/_functions_1115.py:269: SettingWithCopyWarning: \n",
      "A value is trying to be set on a copy of a slice from a DataFrame\n",
      "\n",
      "See the caveats in the documentation: https://pandas.pydata.org/pandas-docs/stable/user_guide/indexing.html#returning-a-view-versus-a-copy\n",
      "  df_in.dropna(axis=0, subset=['producer_0',], inplace=True)\n",
      "/home/jr/.local/lib/python3.6/site-packages/pandas/core/frame.py:4174: SettingWithCopyWarning: \n",
      "A value is trying to be set on a copy of a slice from a DataFrame\n",
      "\n",
      "See the caveats in the documentation: https://pandas.pydata.org/pandas-docs/stable/user_guide/indexing.html#returning-a-view-versus-a-copy\n",
      "  errors=errors,\n"
     ]
    }
   ],
   "source": [
    "nom_bestactress = func.makeready(pd.read_csv('./data/best_actress_nominee.csv'))\n",
    "## removing the last header that is not required for ML\n",
    "nom_bestactress_noname = nom_bestactress.drop('film', axis=1)\n",
    "## hashing all string columns into ints\n",
    "fields = nom_bestactress_noname.select_dtypes('object').columns.tolist()\n",
    "for field in fields:\n",
    "    nom_bestactress_noname[field] = nom_bestactress_noname[field].apply(lambda x: int(hashlib.sha256(x.encode('utf-8')).hexdigest(),16) % 10**8)\n",
    "    \n",
    "bestactress = model.predict_proba(nom_bestactress_noname.drop('oscar_win',axis=1))\n",
    "for index in range(len(bestactress)):\n",
    "    print(nom_bestactress['film'][index],':', bestactress[index])"
   ]
  },
  {
   "cell_type": "code",
   "execution_count": 10,
   "id": "2fa25f0a-4a81-4a5d-97b8-dc56a9dc5e44",
   "metadata": {},
   "outputs": [
    {
     "name": "stdout",
     "output_type": "stream",
     "text": [
      "Minari : [0.5181595 0.4818405]\n",
      "Promising Young Woman : [0.52039441 0.47960559]\n",
      "Mank : [0.51377866 0.48622134]\n",
      "Another Round : [0.52272563 0.47727437]\n",
      "Nomadland : [0.51501396 0.48498604]\n"
     ]
    },
    {
     "name": "stderr",
     "output_type": "stream",
     "text": [
      "/home/jr/Documents/GitHub/miniproject_1115/Movies/_functions_1115.py:269: SettingWithCopyWarning: \n",
      "A value is trying to be set on a copy of a slice from a DataFrame\n",
      "\n",
      "See the caveats in the documentation: https://pandas.pydata.org/pandas-docs/stable/user_guide/indexing.html#returning-a-view-versus-a-copy\n",
      "  df_in.dropna(axis=0, subset=['producer_0',], inplace=True)\n",
      "/home/jr/.local/lib/python3.6/site-packages/pandas/core/frame.py:4174: SettingWithCopyWarning: \n",
      "A value is trying to be set on a copy of a slice from a DataFrame\n",
      "\n",
      "See the caveats in the documentation: https://pandas.pydata.org/pandas-docs/stable/user_guide/indexing.html#returning-a-view-versus-a-copy\n",
      "  errors=errors,\n"
     ]
    }
   ],
   "source": [
    "nom_bestdirector = func.makeready(pd.read_csv('./data/best_director_nominee.csv'))\n",
    "## removing the last header that is not required for ML\n",
    "nom_bestdirector_noname = nom_bestdirector.drop('film', axis=1)\n",
    "## hashing all string columns into ints\n",
    "fields = nom_bestdirector_noname.select_dtypes('object').columns.tolist()\n",
    "for field in fields:\n",
    "    nom_bestdirector_noname[field] = nom_bestdirector_noname[field].apply(lambda x: int(hashlib.sha256(x.encode('utf-8')).hexdigest(),16) % 10**8)\n",
    "    \n",
    "bestdirector = model.predict_proba(nom_bestdirector_noname.drop('oscar_win',axis=1))\n",
    "for index in range(len(bestdirector)):\n",
    "    print(nom_bestdirector['film'][index],':', bestdirector[index])"
   ]
  },
  {
   "cell_type": "code",
   "execution_count": 11,
   "id": "3af3a07c-2315-47af-9993-b47f9207c35e",
   "metadata": {},
   "outputs": [
    {
     "name": "stderr",
     "output_type": "stream",
     "text": [
      "/home/jr/Documents/GitHub/miniproject_1115/Movies/_functions_1115.py:269: SettingWithCopyWarning: \n",
      "A value is trying to be set on a copy of a slice from a DataFrame\n",
      "\n",
      "See the caveats in the documentation: https://pandas.pydata.org/pandas-docs/stable/user_guide/indexing.html#returning-a-view-versus-a-copy\n",
      "  df_in.dropna(axis=0, subset=['producer_0',], inplace=True)\n",
      "/home/jr/.local/lib/python3.6/site-packages/pandas/core/frame.py:4174: SettingWithCopyWarning: \n",
      "A value is trying to be set on a copy of a slice from a DataFrame\n",
      "\n",
      "See the caveats in the documentation: https://pandas.pydata.org/pandas-docs/stable/user_guide/indexing.html#returning-a-view-versus-a-copy\n",
      "  errors=errors,\n"
     ]
    },
    {
     "name": "stdout",
     "output_type": "stream",
     "text": [
      "Borat Subsequent Moviefilm : [0.53333416 0.46666584]\n",
      "The Father : [0.52453236 0.47546764]\n",
      "Nomadland : [0.51501396 0.48498604]\n",
      "One Night in Miami... : [0.53198615 0.46801385]\n",
      "The White Tiger : [0.52063151 0.47936849]\n"
     ]
    }
   ],
   "source": [
    "nom_bestadap = func.makeready(pd.read_csv('./data/best_adap_nominee.csv'))\n",
    "## removing the last header that is not required for ML\n",
    "nom_bestadap_noname = nom_bestadap.drop('film', axis=1)\n",
    "## hashing all string columns into ints\n",
    "fields = nom_bestadap_noname.select_dtypes('object').columns.tolist()\n",
    "for field in fields:\n",
    "    nom_bestadap_noname[field] = nom_bestadap_noname[field].apply(lambda x: int(hashlib.sha256(x.encode('utf-8')).hexdigest(),16) % 10**8)\n",
    "    \n",
    "bestadap = model.predict_proba(nom_bestadap_noname.drop('oscar_win',axis=1))\n",
    "for index in range(len(bestadap)):\n",
    "    print(nom_bestadap['film'][index],':', bestadap[index])"
   ]
  },
  {
   "cell_type": "code",
   "execution_count": 12,
   "id": "421f26b5-d53a-45d4-bef4-3698f90d3507",
   "metadata": {},
   "outputs": [
    {
     "name": "stdout",
     "output_type": "stream",
     "text": [
      "Judas and the Black Messiah : [0.5251851 0.4748149]\n",
      "Minari : [0.5181595 0.4818405]\n",
      "Promising Young Woman : [0.52039441 0.47960559]\n",
      "Sound of Metal : [0.52015338 0.47984662]\n",
      "The Trial of the Chicago 7 : [0.60796656 0.39203344]\n"
     ]
    },
    {
     "name": "stderr",
     "output_type": "stream",
     "text": [
      "/home/jr/Documents/GitHub/miniproject_1115/Movies/_functions_1115.py:269: SettingWithCopyWarning: \n",
      "A value is trying to be set on a copy of a slice from a DataFrame\n",
      "\n",
      "See the caveats in the documentation: https://pandas.pydata.org/pandas-docs/stable/user_guide/indexing.html#returning-a-view-versus-a-copy\n",
      "  df_in.dropna(axis=0, subset=['producer_0',], inplace=True)\n",
      "/home/jr/.local/lib/python3.6/site-packages/pandas/core/frame.py:4174: SettingWithCopyWarning: \n",
      "A value is trying to be set on a copy of a slice from a DataFrame\n",
      "\n",
      "See the caveats in the documentation: https://pandas.pydata.org/pandas-docs/stable/user_guide/indexing.html#returning-a-view-versus-a-copy\n",
      "  errors=errors,\n"
     ]
    }
   ],
   "source": [
    "df_raw = pd.read_csv('./data/best_org_nominee.csv')\n",
    "df_raw['Horror']=0\n",
    "\n",
    "nom_bestorg = func.makeready(df_raw)\n",
    "## removing the last header that is not required for ML\n",
    "nom_bestorg_noname = nom_bestorg.drop('film', axis=1)\n",
    "## hashing all string columns into ints\n",
    "fields = nom_bestorg_noname.select_dtypes('object').columns.tolist()\n",
    "for field in fields:\n",
    "    nom_bestorg_noname[field] = nom_bestorg_noname[field].apply(lambda x: int(hashlib.sha256(x.encode('utf-8')).hexdigest(),16) % 10**8)\n",
    "    \n",
    "bestorg = model.predict_proba(nom_bestorg_noname.drop('oscar_win',axis=1))\n",
    "for index in range(len(bestorg)):\n",
    "    print(nom_bestorg['film'][index],':', bestorg[index])"
   ]
  },
  {
   "cell_type": "code",
   "execution_count": 13,
   "id": "a9e8c706-6032-4c8c-988a-0c4632d6f048",
   "metadata": {},
   "outputs": [
    {
     "name": "stderr",
     "output_type": "stream",
     "text": [
      "/home/jr/Documents/GitHub/miniproject_1115/Movies/_functions_1115.py:269: SettingWithCopyWarning: \n",
      "A value is trying to be set on a copy of a slice from a DataFrame\n",
      "\n",
      "See the caveats in the documentation: https://pandas.pydata.org/pandas-docs/stable/user_guide/indexing.html#returning-a-view-versus-a-copy\n",
      "  df_in.dropna(axis=0, subset=['producer_0',], inplace=True)\n",
      "/home/jr/.local/lib/python3.6/site-packages/pandas/core/frame.py:4174: SettingWithCopyWarning: \n",
      "A value is trying to be set on a copy of a slice from a DataFrame\n",
      "\n",
      "See the caveats in the documentation: https://pandas.pydata.org/pandas-docs/stable/user_guide/indexing.html#returning-a-view-versus-a-copy\n",
      "  errors=errors,\n"
     ]
    },
    {
     "name": "stdout",
     "output_type": "stream",
     "text": [
      "The Father : [0.53072544 0.46927456]\n",
      "Judas and the Black Messiah : [0.53137727 0.46862273]\n",
      "Mank : [0.51998362 0.48001638]\n",
      "Minari : [0.52436032 0.47563968]\n",
      "Nomadland : [0.52121785 0.47878215]\n",
      "Promising Young Woman : [0.52659274 0.47340726]\n",
      "Sound of Metal : [0.52635199 0.47364801]\n",
      "The Trial of the Chicago 7 : [0.61387288 0.38612712]\n"
     ]
    }
   ],
   "source": [
    "nom_bestpicture = func.makeready(pd.read_csv('./data/best_picture_nominee.csv'))\n",
    "## removing the last header that is not required for ML\n",
    "nom_bestpicture_noname = nom_bestpicture.drop('film', axis=1)\n",
    "## hashing all string columns into ints\n",
    "fields = nom_bestpicture_noname.select_dtypes('object').columns.tolist()\n",
    "for field in fields:\n",
    "    nom_bestpicture_noname[field] = nom_bestpicture_noname[field].apply(lambda x: int(hashlib.sha256(x.encode('utf-8')).hexdigest(),16) % 10**8)\n",
    "    \n",
    "bestpicture = model.predict_proba(nom_bestpicture_noname.drop('oscar_win',axis=1))\n",
    "for index in range(len(bestpicture)):\n",
    "    print(nom_bestpicture['film'][index],':', bestpicture[index])"
   ]
  }
 ],
 "metadata": {
  "kernelspec": {
   "display_name": "Python 3",
   "language": "python",
   "name": "python3"
  },
  "language_info": {
   "codemirror_mode": {
    "name": "ipython",
    "version": 3
   },
   "file_extension": ".py",
   "mimetype": "text/x-python",
   "name": "python",
   "nbconvert_exporter": "python",
   "pygments_lexer": "ipython3",
   "version": "3.6.9"
  }
 },
 "nbformat": 4,
 "nbformat_minor": 5
}

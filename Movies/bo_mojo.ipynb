{
 "cells": [
  {
   "cell_type": "code",
   "execution_count": 8,
   "id": "f3d022af",
   "metadata": {},
   "outputs": [],
   "source": [
    "import bs4\n",
    "from bs4 import BeautifulSoup\n",
    "import requests as rq\n",
    "import re\n",
    "import pandas as pd\n",
    "import numpy as np"
   ]
  },
  {
   "cell_type": "code",
   "execution_count": 10,
   "id": "859a0528",
   "metadata": {},
   "outputs": [
    {
     "name": "stdout",
     "output_type": "stream",
     "text": [
      "Box Office data for 1989 scraped\n",
      "1\n"
     ]
    },
    {
     "ename": "IndexError",
     "evalue": "list index out of range",
     "output_type": "error",
     "traceback": [
      "\u001b[0;31m---------------------------------------------------------------------------\u001b[0m",
      "\u001b[0;31mIndexError\u001b[0m                                Traceback (most recent call last)",
      "\u001b[0;32m<ipython-input-10-9b54e500a977>\u001b[0m in \u001b[0;36m<module>\u001b[0;34m\u001b[0m\n\u001b[1;32m     66\u001b[0m \u001b[0;34m\u001b[0m\u001b[0m\n\u001b[1;32m     67\u001b[0m \u001b[0;34m\u001b[0m\u001b[0m\n\u001b[0;32m---> 68\u001b[0;31m \u001b[0mscrape\u001b[0m\u001b[0;34m(\u001b[0m\u001b[0;34m)\u001b[0m\u001b[0;34m\u001b[0m\u001b[0;34m\u001b[0m\u001b[0m\n\u001b[0m",
      "\u001b[0;32m<ipython-input-10-9b54e500a977>\u001b[0m in \u001b[0;36mscrape\u001b[0;34m()\u001b[0m\n\u001b[1;32m     18\u001b[0m \u001b[0;34m\u001b[0m\u001b[0m\n\u001b[1;32m     19\u001b[0m         \u001b[0;31m### Usually the fourth table object on page ###\u001b[0m\u001b[0;34m\u001b[0m\u001b[0;34m\u001b[0m\u001b[0;34m\u001b[0m\u001b[0m\n\u001b[0;32m---> 20\u001b[0;31m         \u001b[0mtb\u001b[0m\u001b[0;34m=\u001b[0m\u001b[0mb\u001b[0m\u001b[0;34m[\u001b[0m\u001b[0;36m3\u001b[0m\u001b[0;34m]\u001b[0m\u001b[0;34m.\u001b[0m\u001b[0mfind_all\u001b[0m\u001b[0;34m(\u001b[0m\u001b[0;34m'td'\u001b[0m\u001b[0;34m)\u001b[0m\u001b[0;34m\u001b[0m\u001b[0;34m\u001b[0m\u001b[0m\n\u001b[0m\u001b[1;32m     21\u001b[0m \u001b[0;34m\u001b[0m\u001b[0m\n\u001b[1;32m     22\u001b[0m         \u001b[0;31m## Each data field is found in a <td> element in the fourth table. Store all data in a list ##\u001b[0m\u001b[0;34m\u001b[0m\u001b[0;34m\u001b[0m\u001b[0;34m\u001b[0m\u001b[0m\n",
      "\u001b[0;31mIndexError\u001b[0m: list index out of range"
     ]
    }
   ],
   "source": [
    "## not my function\n",
    "def scrape():\n",
    "    \"\"\"\n",
    "    Gets all box office data from 1989 to 2018 from boxofficemojo.com\n",
    "    \"\"\"\n",
    "    years=[str(a) for a in range(1989,2019)]\n",
    "    df_list=[]\n",
    "    for year in years:\n",
    "        r=rq.get('https://www.boxofficemojo.com/yearly/chart/?view2=worldwide&yr=%s&p=.htm' % year)\n",
    "        print('Box Office data for %s scraped' % year)\n",
    "        p=BeautifulSoup(r.text,'html.parser')\n",
    "        \n",
    "        ### Look for the table ### \n",
    "        b=p.find_all('table')\n",
    "        \n",
    "        ## added below:\n",
    "        print(len(b))\n",
    "        \n",
    "        ### Usually the fourth table object on page ### \n",
    "        tb=b[3].find_all('td')\n",
    "        \n",
    "        ## Each data field is found in a <td> element in the fourth table. Store all data in a list ## \n",
    "        data=[]\n",
    "        for i in tb:\n",
    "            if i.find('a')!=None:\n",
    "                data.append(i.find('a').contents[0])\n",
    "            elif i.find('font')!=None:\n",
    "                 data.append(i.find('font').contents[0])\n",
    "            elif i.find('b')!=None:\n",
    "                data.append(i.find('b').contents[0])\n",
    "                \n",
    "        ### Still a <b> tag left for <font> tags ## \n",
    "        data=[a.contents[0] if type(a)!=bs4.element.NavigableString else a for a in data]\n",
    "        \n",
    "        ### Strip special characters ### \n",
    "        data=[re.sub('[^A-Za-z0-9-. ]+', '', a) for a in data]\n",
    "        \n",
    "        ### Fill NaNs ### \n",
    "        data=[np.nan if a =='na' else a for a in data]\n",
    "        \n",
    "        ### Define the feature names ###\n",
    "        columns=['bo_year_rank','title','studio','worldwide-gross','domestic-gross','domestic-pct','overseas-gross','overseas-pct']\n",
    "        \n",
    "        ### First 6 elements are column headers # \n",
    "        to_df=data[6:]\n",
    "        \n",
    "        ### Escape clause in case the layout changes from year to year ### \n",
    "        if len(to_df)%len(columns) != 0:\n",
    "            print('Possible table misalignment in table for year %s' % year)\n",
    "            break \n",
    "        \n",
    "        ### Convert to pandas dataframe ### \n",
    "        \n",
    "        nrow=int(len(to_df)/len(columns))\n",
    "        df=pd.DataFrame(np.array(to_df).reshape(nrow,8),columns=columns)\n",
    "        df[['worldwide-gross','domestic-gross','overseas-gross']]=df[['worldwide-gross','domestic-gross','overseas-gross']].applymap(lambda x:convdollar(x))\n",
    "        df['bo_year']=int(year)\n",
    "        df_list.append(df)\n",
    "\n",
    "    main=pd.concat(df_list)\n",
    "    \n",
    "    # Store data into csv # \n",
    "    main.to_csv('annual_mojo.csv')\n",
    "\n",
    "    \n",
    "\n",
    "\n",
    "scrape()"
   ]
  }
 ],
 "metadata": {
  "kernelspec": {
   "display_name": "Python 3",
   "language": "python",
   "name": "python3"
  },
  "language_info": {
   "codemirror_mode": {
    "name": "ipython",
    "version": 3
   },
   "file_extension": ".py",
   "mimetype": "text/x-python",
   "name": "python",
   "nbconvert_exporter": "python",
   "pygments_lexer": "ipython3",
   "version": "3.6.9"
  }
 },
 "nbformat": 4,
 "nbformat_minor": 5
}

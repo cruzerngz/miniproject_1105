{
 "cells": [
  {
   "cell_type": "code",
   "execution_count": 1,
   "id": "wooden-million",
   "metadata": {},
   "outputs": [],
   "source": [
    "from tmdbv3api import TMDb, Movie\n",
    "from tmdbv3api import Account\n",
    "from tmdbv3api import Authentication\n",
    "\n",
    "##Import the rest of required libraries\n",
    "import numpy as np\n",
    "import pandas as pd\n",
    "import seaborn as sb\n",
    "import matplotlib.pyplot as plt # we only need pyplot\n",
    "sb.set(palette='icefire') # set the default Seaborn style for graphics\n",
    "\n",
    "##TMDB details\n",
    "##Account details for getting movie reccomendations\n",
    "##Run this block only once during a session\n",
    "tmdb = TMDb()\n",
    "tmdb.api_key = '0921b0cce35c0b2ec8b874614d1d0b47' ##insert apikey\n",
    "tmdb.language = 'en'\n",
    "\n",
    "USERNAME = \"cybercat94\"\n",
    "PASSWORD = \"Wave1994@\"\n",
    "auth = Authentication(username=USERNAME, password=PASSWORD)\n",
    "account = Account()\n",
    "details = account.details()\n",
    "movie = Movie()"
   ]
  },
  {
   "cell_type": "markdown",
   "id": "missing-roommate",
   "metadata": {},
   "source": [
    "# List of functions\n",
    "#### `Full_Mov_DB_2_CSV(date)`\n",
    "    TMDB provides daily exports of its entire database.\n",
    "    Takes a date param as string (YYYY-MM-DD), and writes the export for that day to a CSV file in the local folder"
   ]
  },
  {
   "cell_type": "code",
   "execution_count": 11,
   "id": "centered-routine",
   "metadata": {},
   "outputs": [],
   "source": [
    "## Extract daily exports of entire TMBD database\n",
    "## Function accepts ISO 8601 spec for dates\n",
    "## e.g. FullDB_2_CSV('YYYY-MM-DD')\n",
    "def Full_Mov_DB_2_CSV(date):\n",
    "    db_online_path='http://files.tmdb.org/p/exports/movie_ids_'+date[5:7]+'_'+date[8:10]+'_'+date[:4]+'.json.gz'\n",
    "    print(\"Export link:\", db_online_path)\n",
    "    print(\"Writing to file...\")\n",
    "    try:\n",
    "        data_raw = pd.read_json(db_online_path, compression='gzip', lines=True)\n",
    "    except:\n",
    "        print('Error in extracting file from link.\\nFile may not yet exist on TMDB')\n",
    "        return\n",
    "    \n",
    "    db_path='FullDB_'+date[:4]+'_'+date[5:7]+'_'+date[8:10]+'.csv'\n",
    "    data_raw.to_csv(db_path)\n",
    "    print(\"Exported to local folder:\",db_path)"
   ]
  },
  {
   "cell_type": "code",
   "execution_count": 3,
   "id": "honest-young",
   "metadata": {},
   "outputs": [
    {
     "ename": "SyntaxError",
     "evalue": "invalid syntax (<ipython-input-3-59380306c4bb>, line 4)",
     "output_type": "error",
     "traceback": [
      "\u001b[0;36m  File \u001b[0;32m\"<ipython-input-3-59380306c4bb>\"\u001b[0;36m, line \u001b[0;32m4\u001b[0m\n\u001b[0;31m    df_return =\u001b[0m\n\u001b[0m                ^\u001b[0m\n\u001b[0;31mSyntaxError\u001b[0m\u001b[0;31m:\u001b[0m invalid syntax\n"
     ]
    }
   ],
   "source": [
    "resultlist = movie.search(\"Star wars\")\n",
    "for i in range(len(resultlist)):\n",
    "    temp = pd.DataFrame.from_dict(resultlist[i], orient='index')\n",
    "    df_return = \n",
    "\n",
    "def dataframe_from_search(query):\n",
    "    if type(query) != str:\n",
    "        print(\"Enter string as search query\")\n",
    "        return\n",
    "    else:\n",
    "        querylist = movie.search(query)\n",
    "        temp = pd.DataFrame.from_dict(querylist[i])\n",
    "        for i in range(len(querylist)):\n",
    "            "
   ]
  },
  {
   "cell_type": "code",
   "execution_count": null,
   "id": "known-envelope",
   "metadata": {},
   "outputs": [],
   "source": [
    "print(resultlist[0])\n",
    "test_df = pd.DataFrame.from_dict(resultlist[0], orient='index')\n",
    "print(test_df)"
   ]
  },
  {
   "cell_type": "markdown",
   "id": "bibliographic-submission",
   "metadata": {},
   "source": [
    "# Extracting movies by common attribute\n",
    "Some ways to group movies into a single list are:\n",
    "- Release year\n",
    "- Release month\n",
    "- Genre\n",
    "- Rating\n",
    "- similar name\n",
    "- "
   ]
  },
  {
   "cell_type": "code",
   "execution_count": 12,
   "id": "scientific-sheet",
   "metadata": {},
   "outputs": [
    {
     "name": "stdout",
     "output_type": "stream",
     "text": [
      "Export link: http://files.tmdb.org/p/exports/movie_ids_03_18_2021.json.gz\n",
      "Writing to file...\n",
      "Error in extracting file from link.\n",
      "File may not yet exist on TMDB\n"
     ]
    }
   ],
   "source": [
    "Full_Mov_DB_2_CSV('2021-03-18')"
   ]
  }
 ],
 "metadata": {
  "kernelspec": {
   "display_name": "Python 3",
   "language": "python",
   "name": "python3"
  },
  "language_info": {
   "codemirror_mode": {
    "name": "ipython",
    "version": 3
   },
   "file_extension": ".py",
   "mimetype": "text/x-python",
   "name": "python",
   "nbconvert_exporter": "python",
   "pygments_lexer": "ipython3",
   "version": "3.6.9"
  }
 },
 "nbformat": 4,
 "nbformat_minor": 5
}

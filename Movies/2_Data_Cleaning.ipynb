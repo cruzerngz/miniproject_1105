{
 "cells": [
  {
   "cell_type": "markdown",
   "metadata": {},
   "source": [
    "# Data Cleaning\n",
    "With missing values in the budget and revenue column. Although this might not be important in predicting this years winners due to covid-19 which heavily disrupted the film industry with movite thertres. I believe this can present some valuable insights. Hence, I'll be repolacing all these NULL values wiht the mean of budget and revenue according to the award categories"
   ]
  },
  {
   "cell_type": "code",
   "execution_count": 1,
   "metadata": {},
   "outputs": [],
   "source": [
    "import numpy as np\n",
    "import pandas as pd"
   ]
  },
  {
   "cell_type": "code",
   "execution_count": 2,
   "metadata": {},
   "outputs": [
    {
     "data": {
      "text/html": [
       "<div>\n",
       "<style scoped>\n",
       "    .dataframe tbody tr th:only-of-type {\n",
       "        vertical-align: middle;\n",
       "    }\n",
       "\n",
       "    .dataframe tbody tr th {\n",
       "        vertical-align: top;\n",
       "    }\n",
       "\n",
       "    .dataframe thead th {\n",
       "        text-align: right;\n",
       "    }\n",
       "</style>\n",
       "<table border=\"1\" class=\"dataframe\">\n",
       "  <thead>\n",
       "    <tr style=\"text-align: right;\">\n",
       "      <th></th>\n",
       "      <th>Unnamed: 0</th>\n",
       "      <th>tmdb_id</th>\n",
       "      <th>imdb_id</th>\n",
       "      <th>year_film</th>\n",
       "      <th>year_ceremony</th>\n",
       "      <th>film</th>\n",
       "      <th>oscar_category</th>\n",
       "      <th>nominee</th>\n",
       "      <th>oscar_win</th>\n",
       "      <th>no_oscar_wins</th>\n",
       "      <th>...</th>\n",
       "      <th>revenue</th>\n",
       "      <th>runtime</th>\n",
       "      <th>tmdb_vote_average</th>\n",
       "      <th>tmdb_vote_count</th>\n",
       "      <th>imdb_rating</th>\n",
       "      <th>imdb_votes</th>\n",
       "      <th>rotten_tomatoes_rating</th>\n",
       "      <th>metascore</th>\n",
       "      <th>total_wins</th>\n",
       "      <th>total_nominations</th>\n",
       "    </tr>\n",
       "  </thead>\n",
       "  <tbody>\n",
       "    <tr>\n",
       "      <th>0</th>\n",
       "      <td>0</td>\n",
       "      <td>53939</td>\n",
       "      <td>tt0054326</td>\n",
       "      <td>1960</td>\n",
       "      <td>1961</td>\n",
       "      <td>Sons and Lovers</td>\n",
       "      <td>Best Actor</td>\n",
       "      <td>Trevor Howard</td>\n",
       "      <td>False</td>\n",
       "      <td>1.0</td>\n",
       "      <td>...</td>\n",
       "      <td>0</td>\n",
       "      <td>103</td>\n",
       "      <td>69</td>\n",
       "      <td>18</td>\n",
       "      <td>71</td>\n",
       "      <td>1408</td>\n",
       "      <td>67.0</td>\n",
       "      <td>NaN</td>\n",
       "      <td>7</td>\n",
       "      <td>16</td>\n",
       "    </tr>\n",
       "    <tr>\n",
       "      <th>1</th>\n",
       "      <td>1</td>\n",
       "      <td>22013</td>\n",
       "      <td>tt0053793</td>\n",
       "      <td>1960</td>\n",
       "      <td>1961</td>\n",
       "      <td>Elmer Gantry</td>\n",
       "      <td>Best Actor</td>\n",
       "      <td>Burt Lancaster</td>\n",
       "      <td>True</td>\n",
       "      <td>3.0</td>\n",
       "      <td>...</td>\n",
       "      <td>10400000</td>\n",
       "      <td>146</td>\n",
       "      <td>72</td>\n",
       "      <td>85</td>\n",
       "      <td>78</td>\n",
       "      <td>10534</td>\n",
       "      <td>94.0</td>\n",
       "      <td>NaN</td>\n",
       "      <td>8</td>\n",
       "      <td>13</td>\n",
       "    </tr>\n",
       "    <tr>\n",
       "      <th>2</th>\n",
       "      <td>2</td>\n",
       "      <td>284</td>\n",
       "      <td>tt0053604</td>\n",
       "      <td>1960</td>\n",
       "      <td>1961</td>\n",
       "      <td>The Apartment</td>\n",
       "      <td>Best Actor</td>\n",
       "      <td>Jack Lemmon</td>\n",
       "      <td>False</td>\n",
       "      <td>5.0</td>\n",
       "      <td>...</td>\n",
       "      <td>25000000</td>\n",
       "      <td>125</td>\n",
       "      <td>82</td>\n",
       "      <td>1429</td>\n",
       "      <td>83</td>\n",
       "      <td>165873</td>\n",
       "      <td>93.0</td>\n",
       "      <td>94.0</td>\n",
       "      <td>19</td>\n",
       "      <td>8</td>\n",
       "    </tr>\n",
       "    <tr>\n",
       "      <th>3</th>\n",
       "      <td>3</td>\n",
       "      <td>18929</td>\n",
       "      <td>tt0053796</td>\n",
       "      <td>1960</td>\n",
       "      <td>1961</td>\n",
       "      <td>The Entertainer</td>\n",
       "      <td>Best Actor</td>\n",
       "      <td>Laurence Olivier</td>\n",
       "      <td>False</td>\n",
       "      <td>0.0</td>\n",
       "      <td>...</td>\n",
       "      <td>0</td>\n",
       "      <td>96</td>\n",
       "      <td>62</td>\n",
       "      <td>28</td>\n",
       "      <td>71</td>\n",
       "      <td>3022</td>\n",
       "      <td>77.0</td>\n",
       "      <td>70.0</td>\n",
       "      <td>19</td>\n",
       "      <td>4</td>\n",
       "    </tr>\n",
       "    <tr>\n",
       "      <th>4</th>\n",
       "      <td>4</td>\n",
       "      <td>1908</td>\n",
       "      <td>tt0053946</td>\n",
       "      <td>1960</td>\n",
       "      <td>1961</td>\n",
       "      <td>Inherit the Wind</td>\n",
       "      <td>Best Actor</td>\n",
       "      <td>Spencer Tracy</td>\n",
       "      <td>False</td>\n",
       "      <td>0.0</td>\n",
       "      <td>...</td>\n",
       "      <td>0</td>\n",
       "      <td>128</td>\n",
       "      <td>78</td>\n",
       "      <td>252</td>\n",
       "      <td>81</td>\n",
       "      <td>27478</td>\n",
       "      <td>92.0</td>\n",
       "      <td>75.0</td>\n",
       "      <td>3</td>\n",
       "      <td>7</td>\n",
       "    </tr>\n",
       "  </tbody>\n",
       "</table>\n",
       "<p>5 rows × 29 columns</p>\n",
       "</div>"
      ],
      "text/plain": [
       "   Unnamed: 0  tmdb_id    imdb_id  year_film  year_ceremony              film  \\\n",
       "0           0    53939  tt0054326       1960           1961   Sons and Lovers   \n",
       "1           1    22013  tt0053793       1960           1961      Elmer Gantry   \n",
       "2           2      284  tt0053604       1960           1961     The Apartment   \n",
       "3           3    18929  tt0053796       1960           1961   The Entertainer   \n",
       "4           4     1908  tt0053946       1960           1961  Inherit the Wind   \n",
       "\n",
       "  oscar_category           nominee  oscar_win  no_oscar_wins  ...   revenue  \\\n",
       "0     Best Actor     Trevor Howard      False            1.0  ...         0   \n",
       "1     Best Actor    Burt Lancaster       True            3.0  ...  10400000   \n",
       "2     Best Actor       Jack Lemmon      False            5.0  ...  25000000   \n",
       "3     Best Actor  Laurence Olivier      False            0.0  ...         0   \n",
       "4     Best Actor     Spencer Tracy      False            0.0  ...         0   \n",
       "\n",
       "  runtime tmdb_vote_average  tmdb_vote_count imdb_rating imdb_votes  \\\n",
       "0     103                69               18          71       1408   \n",
       "1     146                72               85          78      10534   \n",
       "2     125                82             1429          83     165873   \n",
       "3      96                62               28          71       3022   \n",
       "4     128                78              252          81      27478   \n",
       "\n",
       "  rotten_tomatoes_rating  metascore  total_wins  total_nominations  \n",
       "0                   67.0        NaN           7                 16  \n",
       "1                   94.0        NaN           8                 13  \n",
       "2                   93.0       94.0          19                  8  \n",
       "3                   77.0       70.0          19                  4  \n",
       "4                   92.0       75.0           3                  7  \n",
       "\n",
       "[5 rows x 29 columns]"
      ]
     },
     "execution_count": 2,
     "metadata": {},
     "output_type": "execute_result"
    }
   ],
   "source": [
    "movie_df =  pd.read_csv(\"Final_Movie_Data.csv\")\n",
    "movie_df.head()"
   ]
  },
  {
   "cell_type": "code",
   "execution_count": 3,
   "metadata": {},
   "outputs": [
    {
     "data": {
      "text/plain": [
       "array(['Best Actor', 'Best Actress', 'Best Director', 'Best Picture',\n",
       "       'Best Adapted Screenplay', 'Best Original Screenplay'],\n",
       "      dtype=object)"
      ]
     },
     "execution_count": 3,
     "metadata": {},
     "output_type": "execute_result"
    }
   ],
   "source": [
    "movie_df.oscar_category.unique()"
   ]
  },
  {
   "cell_type": "code",
   "execution_count": 4,
   "metadata": {},
   "outputs": [
    {
     "name": "stdout",
     "output_type": "stream",
     "text": [
      "Total Records with OSCAR Category of Best Actor 300\n",
      "Total Records with OSCAR Category of Best Actress 300\n",
      "Total Records with OSCAR Category of Best Director 300\n",
      "Total Records with OSCAR Category of Best Picture 343\n",
      "Total Records with OSCAR Category of Best Adapted Screenplay 300\n",
      "Total Records with OSCAR Category of Best Original Screenplay 295\n"
     ]
    }
   ],
   "source": [
    "print(\"Total Records with OSCAR Category of Best Actor\" , movie_df.oscar_category[movie_df.oscar_category == 'Best Actor'].count())\n",
    "print(\"Total Records with OSCAR Category of Best Actress\",movie_df.oscar_category[movie_df.oscar_category == 'Best Actress'].count())\n",
    "print(\"Total Records with OSCAR Category of Best Director\", movie_df.oscar_category[movie_df.oscar_category == 'Best Director'].count())\n",
    "print(\"Total Records with OSCAR Category of Best Picture\",movie_df.oscar_category[movie_df.oscar_category == 'Best Picture'].count())\n",
    "print(\"Total Records with OSCAR Category of Best Adapted Screenplay\",movie_df.oscar_category[movie_df.oscar_category == 'Best Adapted Screenplay'].count())\n",
    "print(\"Total Records with OSCAR Category of Best Original Screenplay\", movie_df.oscar_category[movie_df.oscar_category == 'Best Original Screenplay'].count())\n"
   ]
  },
  {
   "cell_type": "markdown",
   "metadata": {},
   "source": [
    "### Budget Mean For Different Categories"
   ]
  },
  {
   "cell_type": "code",
   "execution_count": 5,
   "metadata": {},
   "outputs": [],
   "source": [
    "budget_best_actor_mean = movie_df.budget[movie_df.oscar_category == 'Best Actor'].mean()\n",
    "budget_best_actoress_mean = movie_df.budget[movie_df.oscar_category == 'Best Actress'].mean()\n",
    "budget_best_director_mean = movie_df.budget[movie_df.oscar_category == 'Best Director'].mean()\n",
    "budget_best_picture_mean = movie_df.budget[movie_df.oscar_category == 'Best Picture'].mean()\n",
    "budget_best_adapted_screenplay_mean = movie_df.budget[movie_df.oscar_category == 'Best Adapted Screenplay'].mean()\n",
    "budget_best_original_screenplay_mean = movie_df.budget[movie_df.oscar_category == 'Best Original Screenplay'].mean()"
   ]
  },
  {
   "cell_type": "code",
   "execution_count": 6,
   "metadata": {},
   "outputs": [
    {
     "name": "stdout",
     "output_type": "stream",
     "text": [
      "Budget Mean of Best Actor  17323630.07\n",
      "Budget Mean of Best Actoress  11092163.186666667\n",
      "Budget Mean of Best Director  21492389.0\n",
      "Budget Mean of Best Picture  26532620.19825073\n",
      "Budget Mean of Best Adapted Screenplay  17194711.416666668\n",
      "Budget Mean of Best Original Screenplay  15385526.386440678\n"
     ]
    }
   ],
   "source": [
    "print(\"Budget Mean of Best Actor \", budget_best_actor_mean)\n",
    "print(\"Budget Mean of Best Actoress \",budget_best_actoress_mean)\n",
    "print(\"Budget Mean of Best Director \",budget_best_director_mean)\n",
    "print(\"Budget Mean of Best Picture \",budget_best_picture_mean)\n",
    "print(\"Budget Mean of Best Adapted Screenplay \",budget_best_adapted_screenplay_mean)\n",
    "print(\"Budget Mean of Best Original Screenplay \",budget_best_original_screenplay_mean)"
   ]
  },
  {
   "cell_type": "markdown",
   "metadata": {},
   "source": [
    "### Revenue Mean For Different Categories"
   ]
  },
  {
   "cell_type": "code",
   "execution_count": 7,
   "metadata": {},
   "outputs": [],
   "source": [
    "revenue_best_actor_mean = movie_df.revenue[movie_df.oscar_category == 'Best Actor'].mean()\n",
    "revenue_best_actoress_mean = movie_df.revenue[movie_df.oscar_category == 'Best Actress'].mean()\n",
    "revenue_best_director_mean = movie_df.revenue[movie_df.oscar_category == 'Best Director'].mean()\n",
    "revenue_best_picture_mean = movie_df.revenue[movie_df.oscar_category == 'Best Picture'].mean()\n",
    "revenue_best_adapted_screenplay_mean = movie_df.revenue[movie_df.oscar_category == 'Best Adapted Screenplay'].mean()\n",
    "revenue_best_original_screenplay_mean = movie_df.revenue[movie_df.oscar_category == 'Best Original Screenplay'].mean()"
   ]
  },
  {
   "cell_type": "code",
   "execution_count": 8,
   "metadata": {},
   "outputs": [
    {
     "name": "stdout",
     "output_type": "stream",
     "text": [
      "Revenue Mean of Best Actor  91033070.26\n",
      "Revenue Mean of Best Actoress  65290865.15\n",
      "Revenue Mean of Best Director  136493238.82666665\n",
      "Revenue Mean of Best Picture  168352727.30612245\n",
      "Revenue Mean of Best Adapted Screenplay  89910163.27666667\n",
      "Revenue Mean of Best Original Screenplay  97660240.8\n"
     ]
    }
   ],
   "source": [
    "print(\"Revenue Mean of Best Actor \", revenue_best_actor_mean)\n",
    "print(\"Revenue Mean of Best Actoress \",revenue_best_actoress_mean)\n",
    "print(\"Revenue Mean of Best Director \",revenue_best_director_mean)\n",
    "print(\"Revenue Mean of Best Picture \",revenue_best_picture_mean)\n",
    "print(\"Revenue Mean of Best Adapted Screenplay \",revenue_best_adapted_screenplay_mean)\n",
    "print(\"Revenue Mean of Best Original Screenplay \",revenue_best_original_screenplay_mean)"
   ]
  },
  {
   "cell_type": "markdown",
   "metadata": {},
   "source": [
    "### Total Null Values in Budget For Different Categories"
   ]
  },
  {
   "cell_type": "code",
   "execution_count": 9,
   "metadata": {},
   "outputs": [
    {
     "name": "stdout",
     "output_type": "stream",
     "text": [
      "Total Null Values in Budget For Best Actor  84\n",
      "Total Null Values in Budget For Best Actress  120\n",
      "Total Null Values in Budget For Best Director  51\n",
      "Total Null Values in Budget For Best Picture  45\n",
      "Total Null Values in Budget For Best Adapted Screenplay  89\n",
      "Total Null Values in Budget For Best Original Screenplay  85\n"
     ]
    }
   ],
   "source": [
    "## Null Values in Budget For Different Categories\n",
    "\n",
    "print(\"Total Null Values in Budget For Best Actor \" ,movie_df.budget[movie_df.oscar_category == 'Best Actor'][movie_df.budget == 0].count())\n",
    "print(\"Total Null Values in Budget For Best Actress \", movie_df.budget[movie_df.oscar_category == 'Best Actress'][movie_df.budget == 0].count())\n",
    "print(\"Total Null Values in Budget For Best Director \",movie_df.budget[movie_df.oscar_category == 'Best Director'][movie_df.budget == 0].count())\n",
    "print(\"Total Null Values in Budget For Best Picture \",movie_df.budget[movie_df.oscar_category == 'Best Picture'][movie_df.budget == 0].count())\n",
    "print(\"Total Null Values in Budget For Best Adapted Screenplay \",movie_df.budget[movie_df.oscar_category == 'Best Adapted Screenplay'][movie_df.budget == 0].count())\n",
    "print(\"Total Null Values in Budget For Best Original Screenplay \",movie_df.budget[movie_df.oscar_category == 'Best Original Screenplay'][movie_df.budget == 0].count())"
   ]
  },
  {
   "cell_type": "code",
   "execution_count": 10,
   "metadata": {},
   "outputs": [],
   "source": [
    "filter1 = ( (movie_df.oscar_category == 'Best Actor') &  (movie_df.budget == 0))\n",
    "filter2 = ( (movie_df.oscar_category == 'Best Actress') &  (movie_df.budget == 0))\n",
    "filter3 = ( (movie_df.oscar_category == 'Best Director') &  (movie_df.budget == 0))\n",
    "filter4 = ( (movie_df.oscar_category == 'Best Picture') &  (movie_df.budget == 0))\n",
    "filter5 = ( (movie_df.oscar_category == 'Best Adapted Screenplay') &  (movie_df.budget == 0))\n",
    "filter6 = ( (movie_df.oscar_category == 'Best Original Screenplay') &  (movie_df.budget == 0))\n",
    "\n",
    "movie_df.loc[filter1,'budget'] =  budget_best_actor_mean\n",
    "movie_df.loc[filter2,'budget'] =  budget_best_actoress_mean\n",
    "movie_df.loc[filter3,'budget'] =  budget_best_director_mean\n",
    "movie_df.loc[filter4,'budget'] =  budget_best_picture_mean\n",
    "movie_df.loc[filter5,'budget'] =  budget_best_adapted_screenplay_mean\n",
    "movie_df.loc[filter6,'budget'] =  budget_best_original_screenplay_mean"
   ]
  },
  {
   "cell_type": "markdown",
   "metadata": {},
   "source": [
    "### Null Values in Budget For Different Categories After Imputation"
   ]
  },
  {
   "cell_type": "code",
   "execution_count": 11,
   "metadata": {},
   "outputs": [
    {
     "name": "stdout",
     "output_type": "stream",
     "text": [
      "Total Null Values in Budget For Best Actor  0\n",
      "Total Null Values in Budget For Best Actress  0\n",
      "Total Null Values in Budget For Best Director  0\n",
      "Total Null Values in Budget For Best Picture  0\n",
      "Total Null Values in Budget For Best Adapted Screenplay  0\n",
      "Total Null Values in Budget For Best Original Screenplay  0\n"
     ]
    }
   ],
   "source": [
    "## Null Values in Budget For Different Categories After Imputation\n",
    "\n",
    "print(\"Total Null Values in Budget For Best Actor \" ,movie_df.budget[movie_df.oscar_category == 'Best Actor'][movie_df.budget == 0].count())\n",
    "print(\"Total Null Values in Budget For Best Actress \", movie_df.budget[movie_df.oscar_category == 'Best Actress'][movie_df.budget == 0].count())\n",
    "print(\"Total Null Values in Budget For Best Director \",movie_df.budget[movie_df.oscar_category == 'Best Director'][movie_df.budget == 0].count())\n",
    "print(\"Total Null Values in Budget For Best Picture \",movie_df.budget[movie_df.oscar_category == 'Best Picture'][movie_df.budget == 0].count())\n",
    "print(\"Total Null Values in Budget For Best Adapted Screenplay \",movie_df.budget[movie_df.oscar_category == 'Best Adapted Screenplay'][movie_df.budget == 0].count())\n",
    "print(\"Total Null Values in Budget For Best Original Screenplay \",movie_df.budget[movie_df.oscar_category == 'Best Original Screenplay'][movie_df.budget == 0].count())"
   ]
  },
  {
   "cell_type": "markdown",
   "metadata": {},
   "source": [
    "### Total Null Values in Revenue For Different Categories"
   ]
  },
  {
   "cell_type": "code",
   "execution_count": 12,
   "metadata": {},
   "outputs": [
    {
     "name": "stdout",
     "output_type": "stream",
     "text": [
      "Total Null Values in Revenue For Best Actor  68\n",
      "Total Null Values in Revenue For Best Actress  102\n",
      "Total Null Values in Revenue For Best Director  47\n",
      "Total Null Values in Revenue For Best Picture  34\n",
      "Total Null Values in Revenue For Best Adapted Screenplay  74\n",
      "Total Null Values in Revenue For Best Original Screenplay  84\n"
     ]
    }
   ],
   "source": [
    "## Null Values in Revenue For Different Categories\n",
    "\n",
    "print(\"Total Null Values in Revenue For Best Actor \" ,movie_df.revenue[movie_df.oscar_category == 'Best Actor'][movie_df.revenue == 0].count())\n",
    "print(\"Total Null Values in Revenue For Best Actress \", movie_df.revenue[movie_df.oscar_category == 'Best Actress'][movie_df.revenue == 0].count())\n",
    "print(\"Total Null Values in Revenue For Best Director \",movie_df.revenue[movie_df.oscar_category == 'Best Director'][movie_df.revenue == 0].count())\n",
    "print(\"Total Null Values in Revenue For Best Picture \",movie_df.revenue[movie_df.oscar_category == 'Best Picture'][movie_df.revenue == 0].count())\n",
    "print(\"Total Null Values in Revenue For Best Adapted Screenplay \",movie_df.revenue[movie_df.oscar_category == 'Best Adapted Screenplay'][movie_df.revenue == 0].count())\n",
    "print(\"Total Null Values in Revenue For Best Original Screenplay \",movie_df.revenue[movie_df.oscar_category == 'Best Original Screenplay'][movie_df.revenue == 0].count())"
   ]
  },
  {
   "cell_type": "code",
   "execution_count": 13,
   "metadata": {},
   "outputs": [],
   "source": [
    "filter1 = ( (movie_df.oscar_category == 'Best Actor') &  (movie_df.revenue == 0))\n",
    "filter2 = ( (movie_df.oscar_category == 'Best Actress') &  (movie_df.revenue == 0))\n",
    "filter3 = ( (movie_df.oscar_category == 'Best Director') &  (movie_df.revenue == 0))\n",
    "filter4 = ( (movie_df.oscar_category == 'Best Picture') &  (movie_df.revenue == 0))\n",
    "filter5 = ( (movie_df.oscar_category == 'Best Adapted Screenplay') &  (movie_df.revenue == 0))\n",
    "filter6 = ( (movie_df.oscar_category == 'Best Original Screenplay') &  (movie_df.revenue == 0))\n",
    "\n",
    "movie_df.loc[filter1,'revenue'] =  revenue_best_actor_mean\n",
    "movie_df.loc[filter2,'revenue'] =  revenue_best_actoress_mean\n",
    "movie_df.loc[filter3,'revenue'] =  revenue_best_director_mean\n",
    "movie_df.loc[filter4,'revenue'] =  revenue_best_picture_mean\n",
    "movie_df.loc[filter5,'revenue'] =  revenue_best_adapted_screenplay_mean\n",
    "movie_df.loc[filter6,'revenue'] =  revenue_best_original_screenplay_mean"
   ]
  },
  {
   "cell_type": "markdown",
   "metadata": {},
   "source": [
    "### Null Values in Revenue For Different Categories After Imputation"
   ]
  },
  {
   "cell_type": "code",
   "execution_count": 15,
   "metadata": {},
   "outputs": [
    {
     "name": "stdout",
     "output_type": "stream",
     "text": [
      "Total Null Values in Revenue For Best Actor  0\n",
      "Total Null Values in Revenue For Best Actress  0\n",
      "Total Null Values in Revenue For Best Director  0\n",
      "Total Null Values in Revenue For Best Picture  0\n",
      "Total Null Values in Revenue For Best Adapted Screenplay  0\n",
      "Total Null Values in Revenue For Best Original Screenplay  0\n"
     ]
    }
   ],
   "source": [
    "print(\"Total Null Values in Revenue For Best Actor \" ,movie_df.revenue[movie_df.oscar_category == 'Best Actor'][movie_df.revenue == 0].count())\n",
    "print(\"Total Null Values in Revenue For Best Actress \", movie_df.revenue[movie_df.oscar_category == 'Best Actress'][movie_df.revenue == 0].count())\n",
    "print(\"Total Null Values in Revenue For Best Director \",movie_df.revenue[movie_df.oscar_category == 'Best Director'][movie_df.revenue == 0].count())\n",
    "print(\"Total Null Values in Revenue For Best Picture \",movie_df.revenue[movie_df.oscar_category == 'Best Picture'][movie_df.revenue == 0].count())\n",
    "print(\"Total Null Values in Revenue For Best Adapted Screenplay \",movie_df.revenue[movie_df.oscar_category == 'Best Adapted Screenplay'][movie_df.revenue == 0].count())\n",
    "print(\"Total Null Values in Revenue For Best Original Screenplay \",movie_df.revenue[movie_df.oscar_category == 'Best Original Screenplay'][movie_df.revenue == 0].count())"
   ]
  },
  {
   "cell_type": "code",
   "execution_count": 16,
   "metadata": {},
   "outputs": [
    {
     "data": {
      "text/html": [
       "<div>\n",
       "<style scoped>\n",
       "    .dataframe tbody tr th:only-of-type {\n",
       "        vertical-align: middle;\n",
       "    }\n",
       "\n",
       "    .dataframe tbody tr th {\n",
       "        vertical-align: top;\n",
       "    }\n",
       "\n",
       "    .dataframe thead th {\n",
       "        text-align: right;\n",
       "    }\n",
       "</style>\n",
       "<table border=\"1\" class=\"dataframe\">\n",
       "  <thead>\n",
       "    <tr style=\"text-align: right;\">\n",
       "      <th></th>\n",
       "      <th>Unnamed: 0</th>\n",
       "      <th>tmdb_id</th>\n",
       "      <th>imdb_id</th>\n",
       "      <th>year_film</th>\n",
       "      <th>year_ceremony</th>\n",
       "      <th>film</th>\n",
       "      <th>oscar_category</th>\n",
       "      <th>nominee</th>\n",
       "      <th>oscar_win</th>\n",
       "      <th>no_oscar_wins</th>\n",
       "      <th>...</th>\n",
       "      <th>revenue</th>\n",
       "      <th>runtime</th>\n",
       "      <th>tmdb_vote_average</th>\n",
       "      <th>tmdb_vote_count</th>\n",
       "      <th>imdb_rating</th>\n",
       "      <th>imdb_votes</th>\n",
       "      <th>rotten_tomatoes_rating</th>\n",
       "      <th>metascore</th>\n",
       "      <th>total_wins</th>\n",
       "      <th>total_nominations</th>\n",
       "    </tr>\n",
       "  </thead>\n",
       "  <tbody>\n",
       "    <tr>\n",
       "      <th>0</th>\n",
       "      <td>0</td>\n",
       "      <td>53939</td>\n",
       "      <td>tt0054326</td>\n",
       "      <td>1960</td>\n",
       "      <td>1961</td>\n",
       "      <td>Sons and Lovers</td>\n",
       "      <td>Best Actor</td>\n",
       "      <td>Trevor Howard</td>\n",
       "      <td>False</td>\n",
       "      <td>1.0</td>\n",
       "      <td>...</td>\n",
       "      <td>9.103307e+07</td>\n",
       "      <td>103</td>\n",
       "      <td>69</td>\n",
       "      <td>18</td>\n",
       "      <td>71</td>\n",
       "      <td>1408</td>\n",
       "      <td>67.0</td>\n",
       "      <td>NaN</td>\n",
       "      <td>7</td>\n",
       "      <td>16</td>\n",
       "    </tr>\n",
       "    <tr>\n",
       "      <th>1</th>\n",
       "      <td>1</td>\n",
       "      <td>22013</td>\n",
       "      <td>tt0053793</td>\n",
       "      <td>1960</td>\n",
       "      <td>1961</td>\n",
       "      <td>Elmer Gantry</td>\n",
       "      <td>Best Actor</td>\n",
       "      <td>Burt Lancaster</td>\n",
       "      <td>True</td>\n",
       "      <td>3.0</td>\n",
       "      <td>...</td>\n",
       "      <td>1.040000e+07</td>\n",
       "      <td>146</td>\n",
       "      <td>72</td>\n",
       "      <td>85</td>\n",
       "      <td>78</td>\n",
       "      <td>10534</td>\n",
       "      <td>94.0</td>\n",
       "      <td>NaN</td>\n",
       "      <td>8</td>\n",
       "      <td>13</td>\n",
       "    </tr>\n",
       "    <tr>\n",
       "      <th>2</th>\n",
       "      <td>2</td>\n",
       "      <td>284</td>\n",
       "      <td>tt0053604</td>\n",
       "      <td>1960</td>\n",
       "      <td>1961</td>\n",
       "      <td>The Apartment</td>\n",
       "      <td>Best Actor</td>\n",
       "      <td>Jack Lemmon</td>\n",
       "      <td>False</td>\n",
       "      <td>5.0</td>\n",
       "      <td>...</td>\n",
       "      <td>2.500000e+07</td>\n",
       "      <td>125</td>\n",
       "      <td>82</td>\n",
       "      <td>1429</td>\n",
       "      <td>83</td>\n",
       "      <td>165873</td>\n",
       "      <td>93.0</td>\n",
       "      <td>94.0</td>\n",
       "      <td>19</td>\n",
       "      <td>8</td>\n",
       "    </tr>\n",
       "    <tr>\n",
       "      <th>3</th>\n",
       "      <td>3</td>\n",
       "      <td>18929</td>\n",
       "      <td>tt0053796</td>\n",
       "      <td>1960</td>\n",
       "      <td>1961</td>\n",
       "      <td>The Entertainer</td>\n",
       "      <td>Best Actor</td>\n",
       "      <td>Laurence Olivier</td>\n",
       "      <td>False</td>\n",
       "      <td>0.0</td>\n",
       "      <td>...</td>\n",
       "      <td>9.103307e+07</td>\n",
       "      <td>96</td>\n",
       "      <td>62</td>\n",
       "      <td>28</td>\n",
       "      <td>71</td>\n",
       "      <td>3022</td>\n",
       "      <td>77.0</td>\n",
       "      <td>70.0</td>\n",
       "      <td>19</td>\n",
       "      <td>4</td>\n",
       "    </tr>\n",
       "    <tr>\n",
       "      <th>4</th>\n",
       "      <td>4</td>\n",
       "      <td>1908</td>\n",
       "      <td>tt0053946</td>\n",
       "      <td>1960</td>\n",
       "      <td>1961</td>\n",
       "      <td>Inherit the Wind</td>\n",
       "      <td>Best Actor</td>\n",
       "      <td>Spencer Tracy</td>\n",
       "      <td>False</td>\n",
       "      <td>0.0</td>\n",
       "      <td>...</td>\n",
       "      <td>9.103307e+07</td>\n",
       "      <td>128</td>\n",
       "      <td>78</td>\n",
       "      <td>252</td>\n",
       "      <td>81</td>\n",
       "      <td>27478</td>\n",
       "      <td>92.0</td>\n",
       "      <td>75.0</td>\n",
       "      <td>3</td>\n",
       "      <td>7</td>\n",
       "    </tr>\n",
       "    <tr>\n",
       "      <th>...</th>\n",
       "      <td>...</td>\n",
       "      <td>...</td>\n",
       "      <td>...</td>\n",
       "      <td>...</td>\n",
       "      <td>...</td>\n",
       "      <td>...</td>\n",
       "      <td>...</td>\n",
       "      <td>...</td>\n",
       "      <td>...</td>\n",
       "      <td>...</td>\n",
       "      <td>...</td>\n",
       "      <td>...</td>\n",
       "      <td>...</td>\n",
       "      <td>...</td>\n",
       "      <td>...</td>\n",
       "      <td>...</td>\n",
       "      <td>...</td>\n",
       "      <td>...</td>\n",
       "      <td>...</td>\n",
       "      <td>...</td>\n",
       "      <td>...</td>\n",
       "    </tr>\n",
       "    <tr>\n",
       "      <th>1833</th>\n",
       "      <td>1833</td>\n",
       "      <td>546554</td>\n",
       "      <td>tt8946378</td>\n",
       "      <td>2019</td>\n",
       "      <td>2020</td>\n",
       "      <td>Knives Out</td>\n",
       "      <td>Best Original Screenplay</td>\n",
       "      <td>Written by Rian Johnson</td>\n",
       "      <td>False</td>\n",
       "      <td>0.0</td>\n",
       "      <td>...</td>\n",
       "      <td>3.092328e+08</td>\n",
       "      <td>131</td>\n",
       "      <td>78</td>\n",
       "      <td>7011</td>\n",
       "      <td>79</td>\n",
       "      <td>471083</td>\n",
       "      <td>97.0</td>\n",
       "      <td>82.0</td>\n",
       "      <td>47</td>\n",
       "      <td>107</td>\n",
       "    </tr>\n",
       "    <tr>\n",
       "      <th>1834</th>\n",
       "      <td>1834</td>\n",
       "      <td>492188</td>\n",
       "      <td>tt7653254</td>\n",
       "      <td>2019</td>\n",
       "      <td>2020</td>\n",
       "      <td>Marriage Story</td>\n",
       "      <td>Best Original Screenplay</td>\n",
       "      <td>Written by Noah Baumbach</td>\n",
       "      <td>False</td>\n",
       "      <td>1.0</td>\n",
       "      <td>...</td>\n",
       "      <td>2.300000e+06</td>\n",
       "      <td>137</td>\n",
       "      <td>78</td>\n",
       "      <td>4745</td>\n",
       "      <td>79</td>\n",
       "      <td>253928</td>\n",
       "      <td>94.0</td>\n",
       "      <td>94.0</td>\n",
       "      <td>126</td>\n",
       "      <td>269</td>\n",
       "    </tr>\n",
       "    <tr>\n",
       "      <th>1835</th>\n",
       "      <td>1835</td>\n",
       "      <td>530915</td>\n",
       "      <td>tt8579674</td>\n",
       "      <td>2019</td>\n",
       "      <td>2020</td>\n",
       "      <td>1917</td>\n",
       "      <td>Best Original Screenplay</td>\n",
       "      <td>Written by Sam Mendes &amp; Krysty Wilson-Cairns</td>\n",
       "      <td>False</td>\n",
       "      <td>3.0</td>\n",
       "      <td>...</td>\n",
       "      <td>3.747339e+08</td>\n",
       "      <td>119</td>\n",
       "      <td>79</td>\n",
       "      <td>7950</td>\n",
       "      <td>83</td>\n",
       "      <td>442036</td>\n",
       "      <td>89.0</td>\n",
       "      <td>78.0</td>\n",
       "      <td>127</td>\n",
       "      <td>198</td>\n",
       "    </tr>\n",
       "    <tr>\n",
       "      <th>1836</th>\n",
       "      <td>1836</td>\n",
       "      <td>466272</td>\n",
       "      <td>tt7131622</td>\n",
       "      <td>2019</td>\n",
       "      <td>2020</td>\n",
       "      <td>Once upon a Time...in Hollywood</td>\n",
       "      <td>Best Original Screenplay</td>\n",
       "      <td>Written by Quentin Tarantino</td>\n",
       "      <td>False</td>\n",
       "      <td>2.0</td>\n",
       "      <td>...</td>\n",
       "      <td>3.742512e+08</td>\n",
       "      <td>162</td>\n",
       "      <td>75</td>\n",
       "      <td>8462</td>\n",
       "      <td>76</td>\n",
       "      <td>563506</td>\n",
       "      <td>85.0</td>\n",
       "      <td>83.0</td>\n",
       "      <td>134</td>\n",
       "      <td>372</td>\n",
       "    </tr>\n",
       "    <tr>\n",
       "      <th>1837</th>\n",
       "      <td>1837</td>\n",
       "      <td>496243</td>\n",
       "      <td>tt6751668</td>\n",
       "      <td>2019</td>\n",
       "      <td>2020</td>\n",
       "      <td>Parasite</td>\n",
       "      <td>Best Original Screenplay</td>\n",
       "      <td>Screenplay by Bong Joon Ho, Han Jin Won; Story...</td>\n",
       "      <td>True</td>\n",
       "      <td>4.0</td>\n",
       "      <td>...</td>\n",
       "      <td>2.575918e+08</td>\n",
       "      <td>133</td>\n",
       "      <td>85</td>\n",
       "      <td>11079</td>\n",
       "      <td>86</td>\n",
       "      <td>580433</td>\n",
       "      <td>98.0</td>\n",
       "      <td>96.0</td>\n",
       "      <td>297</td>\n",
       "      <td>265</td>\n",
       "    </tr>\n",
       "  </tbody>\n",
       "</table>\n",
       "<p>1838 rows × 29 columns</p>\n",
       "</div>"
      ],
      "text/plain": [
       "      Unnamed: 0  tmdb_id    imdb_id  year_film  year_ceremony  \\\n",
       "0              0    53939  tt0054326       1960           1961   \n",
       "1              1    22013  tt0053793       1960           1961   \n",
       "2              2      284  tt0053604       1960           1961   \n",
       "3              3    18929  tt0053796       1960           1961   \n",
       "4              4     1908  tt0053946       1960           1961   \n",
       "...          ...      ...        ...        ...            ...   \n",
       "1833        1833   546554  tt8946378       2019           2020   \n",
       "1834        1834   492188  tt7653254       2019           2020   \n",
       "1835        1835   530915  tt8579674       2019           2020   \n",
       "1836        1836   466272  tt7131622       2019           2020   \n",
       "1837        1837   496243  tt6751668       2019           2020   \n",
       "\n",
       "                                 film            oscar_category  \\\n",
       "0                     Sons and Lovers                Best Actor   \n",
       "1                        Elmer Gantry                Best Actor   \n",
       "2                       The Apartment                Best Actor   \n",
       "3                     The Entertainer                Best Actor   \n",
       "4                    Inherit the Wind                Best Actor   \n",
       "...                               ...                       ...   \n",
       "1833                       Knives Out  Best Original Screenplay   \n",
       "1834                   Marriage Story  Best Original Screenplay   \n",
       "1835                             1917  Best Original Screenplay   \n",
       "1836  Once upon a Time...in Hollywood  Best Original Screenplay   \n",
       "1837                         Parasite  Best Original Screenplay   \n",
       "\n",
       "                                                nominee  oscar_win  \\\n",
       "0                                         Trevor Howard      False   \n",
       "1                                        Burt Lancaster       True   \n",
       "2                                           Jack Lemmon      False   \n",
       "3                                      Laurence Olivier      False   \n",
       "4                                         Spencer Tracy      False   \n",
       "...                                                 ...        ...   \n",
       "1833                            Written by Rian Johnson      False   \n",
       "1834                           Written by Noah Baumbach      False   \n",
       "1835       Written by Sam Mendes & Krysty Wilson-Cairns      False   \n",
       "1836                       Written by Quentin Tarantino      False   \n",
       "1837  Screenplay by Bong Joon Ho, Han Jin Won; Story...       True   \n",
       "\n",
       "      no_oscar_wins  ...       revenue runtime tmdb_vote_average  \\\n",
       "0               1.0  ...  9.103307e+07     103                69   \n",
       "1               3.0  ...  1.040000e+07     146                72   \n",
       "2               5.0  ...  2.500000e+07     125                82   \n",
       "3               0.0  ...  9.103307e+07      96                62   \n",
       "4               0.0  ...  9.103307e+07     128                78   \n",
       "...             ...  ...           ...     ...               ...   \n",
       "1833            0.0  ...  3.092328e+08     131                78   \n",
       "1834            1.0  ...  2.300000e+06     137                78   \n",
       "1835            3.0  ...  3.747339e+08     119                79   \n",
       "1836            2.0  ...  3.742512e+08     162                75   \n",
       "1837            4.0  ...  2.575918e+08     133                85   \n",
       "\n",
       "      tmdb_vote_count imdb_rating imdb_votes rotten_tomatoes_rating  \\\n",
       "0                  18          71       1408                   67.0   \n",
       "1                  85          78      10534                   94.0   \n",
       "2                1429          83     165873                   93.0   \n",
       "3                  28          71       3022                   77.0   \n",
       "4                 252          81      27478                   92.0   \n",
       "...               ...         ...        ...                    ...   \n",
       "1833             7011          79     471083                   97.0   \n",
       "1834             4745          79     253928                   94.0   \n",
       "1835             7950          83     442036                   89.0   \n",
       "1836             8462          76     563506                   85.0   \n",
       "1837            11079          86     580433                   98.0   \n",
       "\n",
       "      metascore  total_wins  total_nominations  \n",
       "0           NaN           7                 16  \n",
       "1           NaN           8                 13  \n",
       "2          94.0          19                  8  \n",
       "3          70.0          19                  4  \n",
       "4          75.0           3                  7  \n",
       "...         ...         ...                ...  \n",
       "1833       82.0          47                107  \n",
       "1834       94.0         126                269  \n",
       "1835       78.0         127                198  \n",
       "1836       83.0         134                372  \n",
       "1837       96.0         297                265  \n",
       "\n",
       "[1838 rows x 29 columns]"
      ]
     },
     "execution_count": 16,
     "metadata": {},
     "output_type": "execute_result"
    }
   ],
   "source": [
    "movie_df"
   ]
  },
  {
   "cell_type": "code",
   "execution_count": 27,
   "metadata": {},
   "outputs": [
    {
     "data": {
      "text/plain": [
       "Unnamed: 0                False\n",
       "tmdb_id                   False\n",
       "imdb_id                   False\n",
       "year_film                 False\n",
       "year_ceremony             False\n",
       "film                      False\n",
       "oscar_category            False\n",
       "nominee                   False\n",
       "oscar_win                 False\n",
       "no_oscar_wins             False\n",
       "no_oscar_nominations      False\n",
       "genre_id                  False\n",
       "staring_casts             False\n",
       "casts_popularity          False\n",
       "director                  False\n",
       "producers                 False\n",
       "screenplay                False\n",
       "crew_popularity           False\n",
       "budget                    False\n",
       "revenue                   False\n",
       "runtime                   False\n",
       "tmdb_vote_average         False\n",
       "tmdb_vote_count           False\n",
       "imdb_rating               False\n",
       "imdb_votes                False\n",
       "rotten_tomatoes_rating     True\n",
       "metascore                  True\n",
       "total_wins                False\n",
       "total_nominations         False\n",
       "dtype: bool"
      ]
     },
     "execution_count": 27,
     "metadata": {},
     "output_type": "execute_result"
    }
   ],
   "source": [
    "movie_df.isnull().any()"
   ]
  },
  {
   "cell_type": "markdown",
   "metadata": {},
   "source": [
    "There seems to be some null values in rotten_tomatoes_rating and metascore. Let's try and fix that too!"
   ]
  },
  {
   "cell_type": "markdown",
   "metadata": {},
   "source": [
    "### Rotten Tomatoes Rating Mean For Different Categories"
   ]
  },
  {
   "cell_type": "code",
   "execution_count": 18,
   "metadata": {},
   "outputs": [],
   "source": [
    "rotten_tomatoes_rating_best_actor_mean = movie_df.rotten_tomatoes_rating[movie_df.oscar_category == 'Best Actor'].mean()\n",
    "rotten_tomatoes_rating_best_actoress_mean = movie_df.rotten_tomatoes_rating[movie_df.oscar_category == 'Best Actress'].mean()\n",
    "rotten_tomatoes_rating_best_director_mean = movie_df.rotten_tomatoes_rating[movie_df.oscar_category == 'Best Director'].mean()\n",
    "rotten_tomatoes_rating_best_picture_mean = movie_df.rotten_tomatoes_rating[movie_df.oscar_category == 'Best Picture'].mean()\n",
    "rotten_tomatoes_rating_best_adapted_screenplay_mean = movie_df.rotten_tomatoes_rating[movie_df.oscar_category == 'Best Adapted Screenplay'].mean()\n",
    "rotten_tomatoes_rating_best_adapted_screenplay_mean = movie_df.rotten_tomatoes_rating[movie_df.oscar_category == 'Best Original Screenplay'].mean()"
   ]
  },
  {
   "cell_type": "code",
   "execution_count": 19,
   "metadata": {},
   "outputs": [
    {
     "name": "stdout",
     "output_type": "stream",
     "text": [
      "Rotten Tomatoes Rating Mean of Best Actor  80.56\n",
      "Rotten Tomatoes Rating Mean of Actoress  78.12709030100335\n",
      "Rotten Tomatoes Rating Mean of Best Director  84.54362416107382\n",
      "Rotten Tomatoes Rating Mean of Picture  85.88921282798835\n",
      "Rotten Tomatoes Rating Mean of Adapted Screenplay  83.37627118644068\n",
      "Rotten Tomatoes Rating Mean of Original Screenplay  83.37627118644068\n"
     ]
    }
   ],
   "source": [
    "print(\"Rotten Tomatoes Rating Mean of Best Actor \", rotten_tomatoes_rating_best_actor_mean)\n",
    "print(\"Rotten Tomatoes Rating Mean of Actoress \",rotten_tomatoes_rating_best_actoress_mean)\n",
    "print(\"Rotten Tomatoes Rating Mean of Best Director \",rotten_tomatoes_rating_best_director_mean)\n",
    "print(\"Rotten Tomatoes Rating Mean of Picture \",rotten_tomatoes_rating_best_picture_mean)\n",
    "print(\"Rotten Tomatoes Rating Mean of Adapted Screenplay \",rotten_tomatoes_rating_best_adapted_screenplay_mean)\n",
    "print(\"Rotten Tomatoes Rating Mean of Original Screenplay \",rotten_tomatoes_rating_best_adapted_screenplay_mean)"
   ]
  },
  {
   "cell_type": "markdown",
   "metadata": {},
   "source": [
    "### Metascore Mean For Different Categories"
   ]
  },
  {
   "cell_type": "code",
   "execution_count": 20,
   "metadata": {},
   "outputs": [],
   "source": [
    "metascore_best_actor_mean = movie_df.metascore[movie_df.oscar_category == 'Best Actor'].mean()\n",
    "metascore_best_actoress_mean = movie_df.metascore[movie_df.oscar_category == 'Best Actress'].mean()\n",
    "metascore_best_director_mean = movie_df.metascore[movie_df.oscar_category == 'Best Director'].mean()\n",
    "metascore_best_picture_mean = movie_df.metascore[movie_df.oscar_category == 'Best Picture'].mean()\n",
    "metascore_best_adapted_screenplay_mean = movie_df.metascore[movie_df.oscar_category == 'Best Adapted Screenplay'].mean()\n",
    "metascore_best_adapted_screenplay_mean = movie_df.metascore[movie_df.oscar_category == 'Best Original Screenplay'].mean()"
   ]
  },
  {
   "cell_type": "code",
   "execution_count": 23,
   "metadata": {},
   "outputs": [
    {
     "name": "stdout",
     "output_type": "stream",
     "text": [
      "Metascore Mean of Best Actor  76.89494163424125\n",
      "Metascore Mean of Actoress  75.06008583690988\n",
      "Metascore Mean of Best Director  81.62773722627738\n",
      "Metascore Mean of Picture  79.534375\n",
      "Metascore Mean of Adapted Screenplay  79.88306451612904\n",
      "Metascore Mean of Original Screenplay  79.88306451612904\n"
     ]
    }
   ],
   "source": [
    "print(\"Metascore Mean of Best Actor \", metascore_best_actor_mean)\n",
    "print(\"Metascore Mean of Actoress \",metascore_best_actoress_mean)\n",
    "print(\"Metascore Mean of Best Director \",metascore_best_director_mean)\n",
    "print(\"Metascore Mean of Picture \",metascore_best_picture_mean)\n",
    "print(\"Metascore Mean of Adapted Screenplay \",metascore_best_adapted_screenplay_mean)\n",
    "print(\"Metascore Mean of Original Screenplay \",metascore_best_adapted_screenplay_mean)"
   ]
  },
  {
   "cell_type": "markdown",
   "metadata": {},
   "source": [
    "Interesting! we can see that Rotten Tomatoes have a slightly higher mean score!"
   ]
  },
  {
   "cell_type": "markdown",
   "metadata": {},
   "source": [
    "### Total Null Values in Rotten Tomatoes Rating For Different Categories"
   ]
  },
  {
   "cell_type": "code",
   "execution_count": 102,
   "metadata": {},
   "outputs": [
    {
     "name": "stdout",
     "output_type": "stream",
     "text": [
      "Total Null Values in Rotten Tomatoes Rating For Best Actor  0\n",
      "Total Null Values in Rotten Tomatoes Rating For Best Actress  1\n",
      "Total Null Values in Rotten Tomatoes Rating For Best Director  2\n",
      "Total Null Values in Rotten Tomatoes Rating For Best Picture  0\n",
      "Total Null Values in Rotten Tomatoes Rating For Best Adapted Screenplay  2\n",
      "Total Null Values in Rotten Tomatoes Rating For Best Original Screenplay  0\n"
     ]
    }
   ],
   "source": [
    "## Null Values in Rotten Tomatoes Rating For Different Categories\n",
    "\n",
    "print(\"Total Null Values in Rotten Tomatoes Rating For Best Actor \" ,movie_df.rotten_tomatoes_rating[movie_df.oscar_category == 'Best Actor'].isna().sum())\n",
    "print(\"Total Null Values in Rotten Tomatoes Rating For Best Actress \",movie_df.rotten_tomatoes_rating[movie_df.oscar_category == 'Best Actress'].isna().sum())\n",
    "print(\"Total Null Values in Rotten Tomatoes Rating For Best Director \",movie_df.rotten_tomatoes_rating[movie_df.oscar_category == 'Best Director'].isna().sum())\n",
    "print(\"Total Null Values in Rotten Tomatoes Rating For Best Picture \",movie_df.rotten_tomatoes_rating[movie_df.oscar_category == 'Best Picture'].isna().sum())\n",
    "print(\"Total Null Values in Rotten Tomatoes Rating For Best Adapted Screenplay \",movie_df.rotten_tomatoes_rating[movie_df.oscar_category == 'Best Adapted Screenplay'].isna().sum())\n",
    "print(\"Total Null Values in Rotten Tomatoes Rating For Best Original Screenplay \",movie_df.rotten_tomatoes_rating[movie_df.oscar_category == 'Best Original Screenplay'].isna().sum())"
   ]
  },
  {
   "cell_type": "code",
   "execution_count": 109,
   "metadata": {},
   "outputs": [],
   "source": [
    "filter1 = ( (movie_df.oscar_category == 'Best Actor') &  (movie_df.rotten_tomatoes_rating.isna()))\n",
    "filter2 = ( (movie_df.oscar_category == 'Best Actress') &  (movie_df.rotten_tomatoes_rating.isna()))\n",
    "filter3 = ( (movie_df.oscar_category == 'Best Director') &  (movie_df.rotten_tomatoes_rating.isna()))\n",
    "filter4 = ( (movie_df.oscar_category == 'Best Picture') &  (movie_df.rotten_tomatoes_rating.isna()))\n",
    "filter5 = ( (movie_df.oscar_category == 'Best Adapted Screenplay') &  (movie_df.rotten_tomatoes_rating.isna()))\n",
    "filter6 = ( (movie_df.oscar_category == 'Best Original Screenplay') &  (movie_df.rotten_tomatoes_rating.isna()))\n",
    "\n",
    "movie_df.loc[filter1,'rotten_tomatoes_rating'] =  rotten_tomatoes_rating_best_actor_mean\n",
    "movie_df.loc[filter2,'rotten_tomatoes_rating'] =  rotten_tomatoes_rating_best_actoress_mean\n",
    "movie_df.loc[filter3,'rotten_tomatoes_rating'] =  rotten_tomatoes_rating_best_director_mean\n",
    "movie_df.loc[filter4,'rotten_tomatoes_rating'] =  rotten_tomatoes_rating_best_picture_mean\n",
    "movie_df.loc[filter5,'rotten_tomatoes_rating'] =  rotten_tomatoes_rating_best_adapted_screenplay_mean\n",
    "movie_df.loc[filter6,'rotten_tomatoes_rating'] =  rotten_tomatoes_rating_best_adapted_screenplay_mean"
   ]
  },
  {
   "cell_type": "markdown",
   "metadata": {},
   "source": [
    "### Null Values in Rotten Tomatoes Rating  For Different Categories After Imputation"
   ]
  },
  {
   "cell_type": "code",
   "execution_count": 112,
   "metadata": {},
   "outputs": [
    {
     "name": "stdout",
     "output_type": "stream",
     "text": [
      "Total Null Values in Rotten Tomatoes Rating For Best Actor  0\n",
      "Total Null Values in Rotten Tomatoes Rating For Best Actress  0\n",
      "Total Null Values in Rotten Tomatoes Rating For Best Director  0\n",
      "Total Null Values in Rotten Tomatoes Rating For Best Picture  0\n",
      "Total Null Values in Rotten Tomatoes Rating For Best Adapted Screenplay  0\n",
      "Total Null Values in Rotten Tomatoes Rating For Best Original Screenplay  0\n"
     ]
    }
   ],
   "source": [
    "print(\"Total Null Values in Rotten Tomatoes Rating For Best Actor \" ,movie_df.rotten_tomatoes_rating[movie_df.oscar_category == 'Best Actor'].isna().sum())\n",
    "print(\"Total Null Values in Rotten Tomatoes Rating For Best Actress \",movie_df.rotten_tomatoes_rating[movie_df.oscar_category == 'Best Actress'].isna().sum())\n",
    "print(\"Total Null Values in Rotten Tomatoes Rating For Best Director \",movie_df.rotten_tomatoes_rating[movie_df.oscar_category == 'Best Director'].isna().sum())\n",
    "print(\"Total Null Values in Rotten Tomatoes Rating For Best Picture \",movie_df.rotten_tomatoes_rating[movie_df.oscar_category == 'Best Picture'].isna().sum())\n",
    "print(\"Total Null Values in Rotten Tomatoes Rating For Best Adapted Screenplay \",movie_df.rotten_tomatoes_rating[movie_df.oscar_category == 'Best Adapted Screenplay'].isna().sum())\n",
    "print(\"Total Null Values in Rotten Tomatoes Rating For Best Original Screenplay \",movie_df.rotten_tomatoes_rating[movie_df.oscar_category == 'Best Original Screenplay'].isna().sum())"
   ]
  },
  {
   "cell_type": "markdown",
   "metadata": {},
   "source": [
    "### Total Null Values in Metascore For Different Categories"
   ]
  },
  {
   "cell_type": "code",
   "execution_count": 103,
   "metadata": {},
   "outputs": [
    {
     "name": "stdout",
     "output_type": "stream",
     "text": [
      "Total Null Values in Rotten Tomatoes Rating For Best Actor  43\n",
      "Total Null Values in Rotten Tomatoes Rating For Best Actress  67\n",
      "Total Null Values in Rotten Tomatoes Rating For Best Director  26\n",
      "Total Null Values in Rotten Tomatoes Rating For Best Picture  23\n",
      "Total Null Values in Rotten Tomatoes Rating For Best Adapted Screenplay  46\n",
      "Total Null Values in Rotten Tomatoes Rating For Best Original Screenplay  47\n"
     ]
    }
   ],
   "source": [
    "## Null Values in Metascore For Different Categories\n",
    "\n",
    "print(\"Total Null Values in Rotten Tomatoes Rating For Best Actor \" ,movie_df.metascore[movie_df.oscar_category == 'Best Actor'].isna().sum())\n",
    "print(\"Total Null Values in Rotten Tomatoes Rating For Best Actress \",movie_df.metascore[movie_df.oscar_category == 'Best Actress'].isna().sum())\n",
    "print(\"Total Null Values in Rotten Tomatoes Rating For Best Director \",movie_df.metascore[movie_df.oscar_category == 'Best Director'].isna().sum())\n",
    "print(\"Total Null Values in Rotten Tomatoes Rating For Best Picture \",movie_df.metascore[movie_df.oscar_category == 'Best Picture'].isna().sum())\n",
    "print(\"Total Null Values in Rotten Tomatoes Rating For Best Adapted Screenplay \",movie_df.metascore[movie_df.oscar_category == 'Best Adapted Screenplay'].isna().sum())\n",
    "print(\"Total Null Values in Rotten Tomatoes Rating For Best Original Screenplay \",movie_df.metascore[movie_df.oscar_category == 'Best Original Screenplay'].isna().sum())"
   ]
  },
  {
   "cell_type": "code",
   "execution_count": 113,
   "metadata": {},
   "outputs": [],
   "source": [
    "filter1 = ( (movie_df.oscar_category == 'Best Actor') &  (movie_df.metascore.isna()))\n",
    "filter2 = ( (movie_df.oscar_category == 'Best Actress') &  (movie_df.metascore.isna()))\n",
    "filter3 = ( (movie_df.oscar_category == 'Best Director') &  (movie_df.metascore.isna()))\n",
    "filter4 = ( (movie_df.oscar_category == 'Best Picture') &  (movie_df.metascore.isna()))\n",
    "filter5 = ( (movie_df.oscar_category == 'Best Adapted Screenplay') &  (movie_df.metascore.isna()))\n",
    "filter6 = ( (movie_df.oscar_category == 'Best Original Screenplay') &  (movie_df.metascore.isna()))\n",
    "\n",
    "movie_df.loc[filter1,'metascore'] =  metascore_best_actor_mean\n",
    "movie_df.loc[filter2,'metascore'] =  metascore_best_actoress_mean\n",
    "movie_df.loc[filter3,'metascore'] =  metascore_best_director_mean\n",
    "movie_df.loc[filter4,'metascore'] =  metascore_best_picture_mean\n",
    "movie_df.loc[filter5,'metascore'] =  metascore_best_adapted_screenplay_mean\n",
    "movie_df.loc[filter6,'metascore'] =  metascore_best_adapted_screenplay_mean"
   ]
  },
  {
   "cell_type": "markdown",
   "metadata": {},
   "source": [
    "### Null Values in Metascore For Different Categories After Imputation"
   ]
  },
  {
   "cell_type": "code",
   "execution_count": 114,
   "metadata": {},
   "outputs": [
    {
     "name": "stdout",
     "output_type": "stream",
     "text": [
      "Total Null Values in Rotten Tomatoes Rating For Best Actor  0\n",
      "Total Null Values in Rotten Tomatoes Rating For Best Actress  0\n",
      "Total Null Values in Rotten Tomatoes Rating For Best Director  0\n",
      "Total Null Values in Rotten Tomatoes Rating For Best Picture  0\n",
      "Total Null Values in Rotten Tomatoes Rating For Best Adapted Screenplay  0\n",
      "Total Null Values in Rotten Tomatoes Rating For Best Original Screenplay  0\n"
     ]
    }
   ],
   "source": [
    "## Null Values in Metascore For Different Categories\n",
    "\n",
    "print(\"Total Null Values in Rotten Tomatoes Rating For Best Actor \" ,movie_df.metascore[movie_df.oscar_category == 'Best Actor'].isna().sum())\n",
    "print(\"Total Null Values in Rotten Tomatoes Rating For Best Actress \",movie_df.metascore[movie_df.oscar_category == 'Best Actress'].isna().sum())\n",
    "print(\"Total Null Values in Rotten Tomatoes Rating For Best Director \",movie_df.metascore[movie_df.oscar_category == 'Best Director'].isna().sum())\n",
    "print(\"Total Null Values in Rotten Tomatoes Rating For Best Picture \",movie_df.metascore[movie_df.oscar_category == 'Best Picture'].isna().sum())\n",
    "print(\"Total Null Values in Rotten Tomatoes Rating For Best Adapted Screenplay \",movie_df.metascore[movie_df.oscar_category == 'Best Adapted Screenplay'].isna().sum())\n",
    "print(\"Total Null Values in Rotten Tomatoes Rating For Best Original Screenplay \",movie_df.metascore[movie_df.oscar_category == 'Best Original Screenplay'].isna().sum())"
   ]
  },
  {
   "cell_type": "markdown",
   "metadata": {},
   "source": [
    "Let's check if there any other null values that have not yet been handled"
   ]
  },
  {
   "cell_type": "code",
   "execution_count": 115,
   "metadata": {},
   "outputs": [
    {
     "data": {
      "text/plain": [
       "Unnamed: 0                False\n",
       "tmdb_id                   False\n",
       "imdb_id                   False\n",
       "year_film                 False\n",
       "year_ceremony             False\n",
       "film                      False\n",
       "oscar_category            False\n",
       "nominee                   False\n",
       "oscar_win                 False\n",
       "no_oscar_wins             False\n",
       "no_oscar_nominations      False\n",
       "genre_id                  False\n",
       "staring_casts             False\n",
       "casts_popularity          False\n",
       "director                  False\n",
       "producers                 False\n",
       "screenplay                False\n",
       "crew_popularity           False\n",
       "budget                    False\n",
       "revenue                   False\n",
       "runtime                   False\n",
       "tmdb_vote_average         False\n",
       "tmdb_vote_count           False\n",
       "imdb_rating               False\n",
       "imdb_votes                False\n",
       "rotten_tomatoes_rating    False\n",
       "metascore                 False\n",
       "total_wins                False\n",
       "total_nominations         False\n",
       "dtype: bool"
      ]
     },
     "execution_count": 115,
     "metadata": {},
     "output_type": "execute_result"
    }
   ],
   "source": [
    "movie_df.isnull().any()"
   ]
  },
  {
   "cell_type": "markdown",
   "metadata": {},
   "source": [
    "Great! It has been handled. Now let's move on to the data exploratory analysis!"
   ]
  },
  {
   "cell_type": "code",
   "execution_count": 116,
   "metadata": {},
   "outputs": [
    {
     "name": "stdout",
     "output_type": "stream",
     "text": [
      "Exported to local folder: Final_Movie_Data_Cleaned.csv\n"
     ]
    }
   ],
   "source": [
    "db_path='Final_Movie_Data_Cleaned.csv'\n",
    "movie_df.to_csv(db_path)\n",
    "print(\"Exported to local folder:\",db_path)"
   ]
  }
 ],
 "metadata": {
  "kernelspec": {
   "display_name": "Python 3",
   "language": "python",
   "name": "python3"
  },
  "language_info": {
   "codemirror_mode": {
    "name": "ipython",
    "version": 3
   },
   "file_extension": ".py",
   "mimetype": "text/x-python",
   "name": "python",
   "nbconvert_exporter": "python",
   "pygments_lexer": "ipython3",
   "version": "3.8.5"
  }
 },
 "nbformat": 4,
 "nbformat_minor": 4
}
